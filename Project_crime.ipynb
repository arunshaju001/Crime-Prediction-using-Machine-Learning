{
  "nbformat": 4,
  "nbformat_minor": 0,
  "metadata": {
    "colab": {
      "name": "Project_crime.ipynb",
      "provenance": [],
      "collapsed_sections": [
        "NgXwXeUONRzW",
        "rnoQEYkaL2zE",
        "89yQb8kxMIhc",
        "5D-zaCb0Mzh5",
        "oWpihcnINrGb",
        "oLQZHf1aPp4v",
        "CLpVof2KSHKC"
      ],
      "machine_shape": "hm",
      "mount_file_id": "1i2NA8J8jb-s3mKQrutzsw-UHBspdKI9e",
      "authorship_tag": "ABX9TyOff+4vyDGOgZuPjGr9fV/z",
      "include_colab_link": true
    },
    "kernelspec": {
      "name": "python3",
      "display_name": "Python 3"
    },
    "accelerator": "TPU"
  },
  "cells": [
    {
      "cell_type": "markdown",
      "metadata": {
        "id": "view-in-github",
        "colab_type": "text"
      },
      "source": [
        "<a href=\"https://colab.research.google.com/github/arunshaju001/Crime-Prediction-using-Machine-Learning/blob/master/Project_crime.ipynb\" target=\"_parent\"><img src=\"https://colab.research.google.com/assets/colab-badge.svg\" alt=\"Open In Colab\"/></a>"
      ]
    },
    {
      "cell_type": "markdown",
      "metadata": {
        "id": "MLh2HLyZKndZ",
        "colab_type": "text"
      },
      "source": [
        "# **Crime Prediction and Visualization**"
      ]
    },
    {
      "cell_type": "markdown",
      "metadata": {
        "id": "NgXwXeUONRzW",
        "colab_type": "text"
      },
      "source": [
        "## **Libraries**"
      ]
    },
    {
      "cell_type": "code",
      "metadata": {
        "id": "2-dHdsPqC5xW",
        "colab_type": "code",
        "colab": {
          "base_uri": "https://localhost:8080/",
          "height": 0
        },
        "outputId": "07ccdd95-3d7a-4b6a-e388-ed54056fa295"
      },
      "source": [
        "#Libraries for map \n",
        "!apt-get install libgeos-dev\n",
        "!pip install https://github.com/matplotlib/basemap/archive/master.zip\n",
        "from mpl_toolkits.basemap import Basemap"
      ],
      "execution_count": 1,
      "outputs": [
        {
          "output_type": "stream",
          "text": [
            "\rReading package lists... 0%\r\rReading package lists... 0%\r\rReading package lists... 0%\r\rReading package lists... 7%\r\rReading package lists... 7%\r\rReading package lists... 7%\r\rReading package lists... 7%\r\rReading package lists... 64%\r\rReading package lists... 64%\r\rReading package lists... 65%\r\rReading package lists... 65%\r\rReading package lists... 69%\r\rReading package lists... 72%\r\rReading package lists... 72%\r\rReading package lists... 72%\r\rReading package lists... 72%\r\rReading package lists... 81%\r\rReading package lists... 81%\r\rReading package lists... 82%\r\rReading package lists... 82%\r\rReading package lists... 82%\r\rReading package lists... 82%\r\rReading package lists... 82%\r\rReading package lists... 82%\r\rReading package lists... 87%\r\rReading package lists... 87%\r\rReading package lists... 87%\r\rReading package lists... 87%\r\rReading package lists... 93%\r\rReading package lists... 93%\r\rReading package lists... 93%\r\rReading package lists... 93%\r\rReading package lists... 93%\r\rReading package lists... 93%\r\rReading package lists... 94%\r\rReading package lists... 94%\r\rReading package lists... 95%\r\rReading package lists... 95%\r\rReading package lists... 98%\r\rReading package lists... 98%\r\rReading package lists... 98%\r\rReading package lists... 98%\r\rReading package lists... Done\r\n",
            "\rBuilding dependency tree... 0%\r\rBuilding dependency tree... 0%\r\rBuilding dependency tree... 50%\r\rBuilding dependency tree... 50%\r\rBuilding dependency tree       \r\n",
            "\rReading state information... 0%\r\rReading state information... 0%\r\rReading state information... Done\r\n",
            "Suggested packages:\n",
            "  libgdal-doc\n",
            "The following NEW packages will be installed:\n",
            "  libgeos-dev\n",
            "0 upgraded, 1 newly installed, 0 to remove and 25 not upgraded.\n",
            "Need to get 73.1 kB of archives.\n",
            "After this operation, 486 kB of additional disk space will be used.\n",
            "\r0% [Working]\r            \rGet:1 http://archive.ubuntu.com/ubuntu bionic/universe amd64 libgeos-dev amd64 3.6.2-1build2 [73.1 kB]\n",
            "\r0% [1 libgeos-dev 0 B/73.1 kB 0%]\r                                 \r100% [Working]\r              \rFetched 73.1 kB in 0s (164 kB/s)\n",
            "Selecting previously unselected package libgeos-dev.\n",
            "(Reading database ... \r(Reading database ... 5%\r(Reading database ... 10%\r(Reading database ... 15%\r(Reading database ... 20%\r(Reading database ... 25%\r(Reading database ... 30%\r(Reading database ... 35%\r(Reading database ... 40%\r(Reading database ... 45%\r(Reading database ... 50%\r(Reading database ... 55%\r(Reading database ... 60%\r(Reading database ... 65%\r(Reading database ... 70%\r(Reading database ... 75%\r(Reading database ... 80%\r(Reading database ... 85%\r(Reading database ... 90%\r(Reading database ... 95%\r(Reading database ... 100%\r(Reading database ... 134448 files and directories currently installed.)\n",
            "Preparing to unpack .../libgeos-dev_3.6.2-1build2_amd64.deb ...\n",
            "Unpacking libgeos-dev (3.6.2-1build2) ...\n",
            "Setting up libgeos-dev (3.6.2-1build2) ...\n",
            "Processing triggers for man-db (2.8.3-2ubuntu0.1) ...\n",
            "Collecting https://github.com/matplotlib/basemap/archive/master.zip\n",
            "\u001b[?25l  Downloading https://github.com/matplotlib/basemap/archive/master.zip\n",
            "\u001b[K     \\ 213.1MB 452kB/s\n",
            "\u001b[?25hRequirement already satisfied: matplotlib!=3.0.1,>=1.0.0 in /usr/local/lib/python3.6/dist-packages (from basemap==1.2.1) (3.1.3)\n",
            "Requirement already satisfied: numpy>=1.2.1 in /usr/local/lib/python3.6/dist-packages (from basemap==1.2.1) (1.17.5)\n",
            "Collecting pyproj>=1.9.3\n",
            "\u001b[?25l  Downloading https://files.pythonhosted.org/packages/77/15/d93f446d253d26b91553f86cf21049183e9b0f51f8c8e6cb2cff081bcc02/pyproj-2.5.0-cp36-cp36m-manylinux2010_x86_64.whl (10.4MB)\n",
            "\u001b[K     |████████████████████████████████| 10.4MB 3.2MB/s \n",
            "\u001b[?25hCollecting pyshp>=1.2.0\n",
            "\u001b[?25l  Downloading https://files.pythonhosted.org/packages/27/16/3bf15aa864fb77845fab8007eda22c2bd67bd6c1fd13496df452c8c43621/pyshp-2.1.0.tar.gz (215kB)\n",
            "\u001b[K     |████████████████████████████████| 225kB 63.3MB/s \n",
            "\u001b[?25hRequirement already satisfied: six in /usr/local/lib/python3.6/dist-packages (from basemap==1.2.1) (1.12.0)\n",
            "Requirement already satisfied: python-dateutil>=2.1 in /usr/local/lib/python3.6/dist-packages (from matplotlib!=3.0.1,>=1.0.0->basemap==1.2.1) (2.6.1)\n",
            "Requirement already satisfied: pyparsing!=2.0.4,!=2.1.2,!=2.1.6,>=2.0.1 in /usr/local/lib/python3.6/dist-packages (from matplotlib!=3.0.1,>=1.0.0->basemap==1.2.1) (2.4.6)\n",
            "Requirement already satisfied: cycler>=0.10 in /usr/local/lib/python3.6/dist-packages (from matplotlib!=3.0.1,>=1.0.0->basemap==1.2.1) (0.10.0)\n",
            "Requirement already satisfied: kiwisolver>=1.0.1 in /usr/local/lib/python3.6/dist-packages (from matplotlib!=3.0.1,>=1.0.0->basemap==1.2.1) (1.1.0)\n",
            "Requirement already satisfied: setuptools in /usr/local/lib/python3.6/dist-packages (from kiwisolver>=1.0.1->matplotlib!=3.0.1,>=1.0.0->basemap==1.2.1) (45.2.0)\n",
            "Building wheels for collected packages: basemap, pyshp\n",
            "  Building wheel for basemap (setup.py) ... \u001b[?25l\u001b[?25hdone\n",
            "  Created wheel for basemap: filename=basemap-1.2.1-cp36-cp36m-linux_x86_64.whl size=121756032 sha256=944e5628010080939a1e1f5a3e97759acb21234c60767e85fba579712e58647c\n",
            "  Stored in directory: /tmp/pip-ephem-wheel-cache-_lep9ss2/wheels/98/4a/fc/ce719b75d97e646645c225f3332b1b217536100314922e9572\n",
            "  Building wheel for pyshp (setup.py) ... \u001b[?25l\u001b[?25hdone\n",
            "  Created wheel for pyshp: filename=pyshp-2.1.0-cp36-none-any.whl size=32609 sha256=f78dd54bf394d9206a8778f6ff313d9c7f246acd3670dd662028d9180af57192\n",
            "  Stored in directory: /root/.cache/pip/wheels/a6/0c/de/321b5192ad416b328975a2f0385f72c64db4656501eba7cc1a\n",
            "Successfully built basemap pyshp\n",
            "Installing collected packages: pyproj, pyshp, basemap\n",
            "Successfully installed basemap-1.2.1 pyproj-2.5.0 pyshp-2.1.0\n"
          ],
          "name": "stdout"
        },
        {
          "output_type": "display_data",
          "data": {
            "application/vnd.colab-display-data+json": {
              "pip_warning": {
                "packages": [
                  "mpl_toolkits"
                ]
              }
            }
          },
          "metadata": {
            "tags": []
          }
        }
      ]
    },
    {
      "cell_type": "code",
      "metadata": {
        "id": "NPgq_AS3cz6F",
        "colab_type": "code",
        "colab": {}
      },
      "source": [
        "import pandas as pd\n",
        "import numpy as np\n",
        "import datetime\n",
        "import time\n",
        "from sklearn.model_selection import train_test_split\n",
        "from sklearn.neighbors import KNeighborsClassifier\n",
        "from sklearn.metrics import mean_absolute_error\n",
        "from sklearn.linear_model import LogisticRegression\n",
        "from sklearn.naive_bayes import GaussianNB \n",
        "from sklearn import metrics \n",
        "import json\n",
        "import matplotlib as mpl\n",
        "import folium\n",
        "from folium.plugins import MarkerCluster\n",
        "import math\n",
        "import matplotlib.pyplot as plt\n",
        "%matplotlib inline"
      ],
      "execution_count": 0,
      "outputs": []
    },
    {
      "cell_type": "markdown",
      "metadata": {
        "id": "rnoQEYkaL2zE",
        "colab_type": "text"
      },
      "source": [
        "## **Mapping Lattitudes and Longitudes to Grids** - No need to Run!!!"
      ]
    },
    {
      "cell_type": "code",
      "metadata": {
        "id": "U-R5L3662fRH",
        "colab_type": "code",
        "colab": {}
      },
      "source": [
        "#Creating dataset with grid value\n",
        "# df.to_csv('/content/drive/My Drive/Colab Notebooks/Project/grid_data_large.csv', index = False)"
      ],
      "execution_count": 0,
      "outputs": []
    },
    {
      "cell_type": "code",
      "metadata": {
        "id": "vcaT70c8Iyc7",
        "colab_type": "code",
        "colab": {}
      },
      "source": [
        "#Rmoving rows with offset values\n",
        "# df=df[df.Y <= 37.811127]\n",
        "# df=df[ df.Y>=37.708318]\n",
        "# df=df[df.X <= -122.356992]\n",
        "# df=df[ df.X>=-122.514985]"
      ],
      "execution_count": 0,
      "outputs": []
    },
    {
      "cell_type": "code",
      "metadata": {
        "id": "-QxeMr6EDkle",
        "colab_type": "code",
        "colab": {}
      },
      "source": [
        "#Lat Long Mapping\n",
        "#Dont run!!!\n",
        "\n",
        "# def get_grid_val(lat_x,lon_y):\n",
        "#   lat_x=37.811128-lat_x\n",
        "#   lat_x=lat_x/.0102809\n",
        "#   lat_x=math.floor(lat_x)\n",
        "#   lon_y=-122.514985-lon_y\n",
        "#   lon_y=lon_y/.0157993\n",
        "#   lon_y=abs(lon_y)\n",
        "#   lon_y=math.floor(lon_y)\n",
        "#   xy=lon_y*10+lat_x\n",
        "#   return(xy)\n",
        "\n",
        "# d=[]\n",
        "# for index, row in df.iterrows(): \n",
        "#     d.append(get_grid_val(row['Y'], row['X']))\n",
        "# df[\"grid\"]=d\n",
        "# print(\"success\")"
      ],
      "execution_count": 0,
      "outputs": []
    },
    {
      "cell_type": "markdown",
      "metadata": {
        "id": "89yQb8kxMIhc",
        "colab_type": "text"
      },
      "source": [
        "## **Preparing Dataset for Training**"
      ]
    },
    {
      "cell_type": "markdown",
      "metadata": {
        "id": "OcgrzYehLs7C",
        "colab_type": "text"
      },
      "source": [
        "**Read dataset from drive and write into Local**"
      ]
    },
    {
      "cell_type": "code",
      "metadata": {
        "id": "SWbra_nMySph",
        "colab_type": "code",
        "colab": {}
      },
      "source": [
        "#Read dataset from drive and write into sample_data\n",
        "#sfnew - orginal\n",
        "#grid_data - small with grid\n",
        "#train - small ds\n",
        "data = pd.read_csv('/content/drive/My Drive/Colab Notebooks/Project/grid_data_large.csv')\n",
        "#Saving to local\n",
        "data.to_csv('/content/sample_data/sfnew.csv', index=False)\n",
        "#Reading the Dataset\n",
        "df=pd.read_csv('/content/sample_data/sfnew.csv')"
      ],
      "execution_count": 0,
      "outputs": []
    },
    {
      "cell_type": "markdown",
      "metadata": {
        "id": "zLijo1tcLepI",
        "colab_type": "text"
      },
      "source": [
        "**Creating year, month, day and hour columns**"
      ]
    },
    {
      "cell_type": "code",
      "metadata": {
        "id": "1Y8vwBfqZ8Uv",
        "colab_type": "code",
        "colab": {}
      },
      "source": [
        "#Creating year, month and day columns\n",
        "df['year'] = pd.DatetimeIndex(df['Date']).year\n",
        "df['month'] = pd.DatetimeIndex(df['Date']).month\n",
        "df['day'] = pd.DatetimeIndex(df['Date']).day\n",
        "# df['hour'] = pd.DatetimeIndex(df['Date']).hour  #In crime,grid_data\n",
        "df['hour'] = pd.DatetimeIndex(df['Time']).hour    #In sfnew,grid_data_large"
      ],
      "execution_count": 0,
      "outputs": []
    },
    {
      "cell_type": "markdown",
      "metadata": {
        "id": "-HF6JX0iKTZK",
        "colab_type": "text"
      },
      "source": [
        "**Category conversion**"
      ]
    },
    {
      "cell_type": "code",
      "metadata": {
        "colab_type": "code",
        "id": "57iDym1G5xdE",
        "colab": {}
      },
      "source": [
        "#Category conversion\n",
        "crime_dict={  'WARRANTS':1,   #c7000a\n",
        "              'LARCENY/THEFT':2, 'VEHICLE THEFT':2,'ROBBERY':2,'STOLEN PROPERTY':2,'EXTORTION':2, 'EMBEZZLEMENT':2,   #ed0274\n",
        "              'VANDALISM':3,'ARSON':3,    #a6039e\n",
        "              'ASSAULT':4, #830fa6\n",
        "              'WEAPON LAWS':5,  #6b09eb\n",
        "              'BURGLARY':6,'TRESPASS':6,    #171ee3          \n",
        "              'MISSING PERSON':7,  'KIDNAPPING':7,    #2e86f2\n",
        "              'SEX OFFENSES NON FORCIBLE':8, 'PROSTITUTION':8,'SEX OFFENSES, NON FORCIBLE':8,   #00b6c7\n",
        "              'SEX OFFENSES FORCIBLE':9, 'SEX OFFENSES, FORCIBLE':9,   #00c25e            \n",
        "              'LOITERING':10, 'SUICIDE':10,'DISORDERLY CONDUCT':10, 'DRIVING UNDER THE INFLUENCE':10, #none           \n",
        "              'TREA':10, 'RECOVERED VEHICLE':10, 'OTHER OFFENSES':10,'BAD CHECKS':10,'GAMBLING':10,\n",
        "              'FORGERY/COUNTERFEITING':10,'SECONDARY CODES':10,'NON-CRIMINAL':10,'SUSPICIOUS OCC':10, 'DRUG/NARCOTIC':10,  \n",
        "              'FRAUD':10, 'RUNAWAY':10,'DRUNKENNESS':10, 'FAMILY OFFENSES':10,'LIQUOR LAWS':10,  'BRIBERY':10,        \n",
        "              'PORNOGRAPHY/OBSCENE MAT':11  #c27e00 \n",
        "              }\n",
        "df[\"Category\"] = df[\"Category\"].replace(crime_dict)"
      ],
      "execution_count": 0,
      "outputs": []
    },
    {
      "cell_type": "markdown",
      "metadata": {
        "id": "86xdVAQqKQ1f",
        "colab_type": "text"
      },
      "source": [
        "**Day of weeks conversion**"
      ]
    },
    {
      "cell_type": "code",
      "metadata": {
        "id": "enHmKeNC5y0l",
        "colab_type": "code",
        "colab": {}
      },
      "source": [
        "#Day of weeks conversion\n",
        "data_week_dict = { \"Monday\": 1, \"Tuesday\":2, \"Wednesday\":3, \"Thursday\":4, \"Friday\":5, \"Saturday\":6, \"Sunday\":7 }\n",
        "df[\"DayOfWeek\"] = df[\"DayOfWeek\"].replace(data_week_dict)"
      ],
      "execution_count": 0,
      "outputs": []
    },
    {
      "cell_type": "markdown",
      "metadata": {
        "id": "P-sUjRmcKArO",
        "colab_type": "text"
      },
      "source": [
        " **District conversion**"
      ]
    },
    {
      "cell_type": "code",
      "metadata": {
        "id": "vDCk0oDA5zBZ",
        "colab_type": "code",
        "cellView": "both",
        "colab": {}
      },
      "source": [
        "#District conversion\n",
        "district = df[\"PdDistrict\"].unique()\n",
        "data_dict_district = {}\n",
        "count = 1\n",
        "for data in district:\n",
        "    data_dict_district[data] = count\n",
        "    count+=1 \n",
        "df[\"PdDistrict\"] = df[\"PdDistrict\"].replace(data_dict_district)"
      ],
      "execution_count": 0,
      "outputs": []
    },
    {
      "cell_type": "markdown",
      "metadata": {
        "id": "RmIrLzeYTLX6",
        "colab_type": "text"
      },
      "source": [
        "**Checking Data**"
      ]
    },
    {
      "cell_type": "code",
      "metadata": {
        "id": "7749YsvD6O_A",
        "colab_type": "code",
        "colab": {
          "base_uri": "https://localhost:8080/",
          "height": 0
        },
        "outputId": "c5efb718-d881-43ca-9574-fd665bb5e3e2"
      },
      "source": [
        "#Checking correlation\n",
        "corr = df.corr()\n",
        "print(corr[\"Category\"])"
      ],
      "execution_count": 11,
      "outputs": [
        {
          "output_type": "stream",
          "text": [
            "IncidntNum   -0.039038\n",
            "Category      1.000000\n",
            "DayOfWeek    -0.026793\n",
            "PdDistrict    0.038569\n",
            "X             0.006231\n",
            "Y            -0.046726\n",
            "PdId         -0.039038\n",
            "grid          0.017282\n",
            "year         -0.031345\n",
            "month        -0.014189\n",
            "day          -0.020276\n",
            "hour         -0.071228\n",
            "Name: Category, dtype: float64\n"
          ],
          "name": "stdout"
        }
      ]
    },
    {
      "cell_type": "code",
      "metadata": {
        "id": "ORQ4r8Ad6we8",
        "colab_type": "code",
        "colab": {
          "base_uri": "https://localhost:8080/",
          "height": 0
        },
        "outputId": "5a70da35-df3f-425b-bc4c-5c7e9f90c121"
      },
      "source": [
        "#Checking data distribution\n",
        "skew = df.skew()\n",
        "print(skew)"
      ],
      "execution_count": 12,
      "outputs": [
        {
          "output_type": "stream",
          "text": [
            "IncidntNum    0.705717\n",
            "Category      0.078545\n",
            "DayOfWeek    -0.008013\n",
            "PdDistrict    0.093789\n",
            "X            -1.208264\n",
            "Y            -0.725909\n",
            "PdId          0.705717\n",
            "grid         -1.040506\n",
            "year         -0.030696\n",
            "month         0.021918\n",
            "day           0.008271\n",
            "hour         -0.516175\n",
            "dtype: float64\n"
          ],
          "name": "stdout"
        }
      ]
    },
    {
      "cell_type": "markdown",
      "metadata": {
        "id": "5D-zaCb0Mzh5",
        "colab_type": "text"
      },
      "source": [
        "## **Feature Selection and Creation of Prediction Dataset**"
      ]
    },
    {
      "cell_type": "markdown",
      "metadata": {
        "id": "_uPA7qpJTZ5j",
        "colab_type": "text"
      },
      "source": [
        "**Selecting features and Splitting Dataset**"
      ]
    },
    {
      "cell_type": "code",
      "metadata": {
        "id": "J2vgmdzB75gQ",
        "colab_type": "code",
        "colab": {}
      },
      "source": [
        "#Selecting features\n",
        "# \"DayOfWeek\" \"PdDistrict\" \"X\" \"Y\" \"split\" \"grid\" \"year\" \"month\" \"day\" \"hour\"\n",
        "features = [  \"grid\",\"year\",\"DayOfWeek\" ,\"month\",\"PdDistrict\",\"day\" ]\n",
        "df_new=df[features]\n",
        "df_res=df.Category\n",
        "#Splitting the data\n",
        "train_X, test_X, train_y, test_y = train_test_split(df_new, df_res, train_size=0.9 , random_state = 1)"
      ],
      "execution_count": 0,
      "outputs": []
    },
    {
      "cell_type": "markdown",
      "metadata": {
        "id": "ThBeNDhiTXv7",
        "colab_type": "text"
      },
      "source": [
        "**Creating prediction_set for Predicting Crime**"
      ]
    },
    {
      "cell_type": "code",
      "metadata": {
        "id": "B3TWZBE6Gcf-",
        "colab_type": "code",
        "colab": {}
      },
      "source": [
        "# Creating prediction_set for Predicting Crime\n",
        "columns=[ \"grid\",\"year\",\"DayOfWeek\" ,\"month\",\"PdDistrict\",\"day\" ]\n",
        "pd.DataFrame(index=np.arange(1), columns=np.arange(8))\n",
        "prediction_set = pd.DataFrame( columns=columns)\n",
        "prediction_set = prediction_set.fillna(0)\n",
        "\n",
        "#District assignment to Grid\n",
        "grid_Pd_dict ={ 2: 6, 3: 6, 4: 2, 5: 2, 6: 2, 7: 2, 8: 2, 12: 6, 13: 6, 14: 2, 15: 2, 16: 2, 17: 2, 18: 2, 19: 2, 20: 4,\n",
        "                22: 6, 23: 6, 24: 2, 25: 2, 26: 2, 27: 2, 28: 2, 29: 2, 30: 8, 31: 6, 32: 6, 33: 10, 34: 2, 35: 10,\n",
        "                36: 2, 37: 2, 38: 2, 39: 2, 40: 4, 41: 4, 42: 6, 43: 10, 44: 10, 45: 10, 46: 5, 47: 1, 48: 2,\n",
        "                49: 2, 50: 4, 51: 4, 52: 4, 53: 4, 54: 10, 55: 7, 56: 5, 57: 5, 58: 5, 59: 5, 60: 8, 61: 8, 62: 8,\n",
        "                63: 1, 64: 7, 65: 7, 66: 3, 67: 3, 68: 3, 69: 5, 70: 8, 71: 1, 72: 8, 73: 1, 74: 3, 75: 3, 76: 3,\n",
        "                77: 3, 78: 3, 79: 3, 82: 1, 83: 3, 84: 3, 85: 3, 86: 3, 87: 3, 88: 3, 89: 3, 90: 1, 97: 3, 98: 3}\n",
        "\n",
        "#Grid Correction\n",
        "grid_val={    0 : 90, 10 : 91, 20 : 92, 30 : 93, 40 : 94, 50 : 95, 60 : 96, 70 : 97, 80 : 98, 90 : 99,\n",
        "              1 : 80, 11 : 81, 21 : 82, 31 : 83, 41 : 84, 51 : 85, 61 : 86, 71 : 87, 81 : 88, 91 : 89,\n",
        "              2 : 70, 12 : 71, 22 : 72, 32 : 73, 42 : 74, 52 : 75, 62 : 76, 72 : 77, 82 : 78, 92 : 79,\n",
        "              3 : 60, 13 : 61, 23 : 62, 33 : 63, 43 : 64, 53 : 65, 63 : 66, 73 : 67, 83 : 68, 93 : 69,\n",
        "              4 : 50, 14 : 51, 24 : 52, 34 : 53, 44 : 54, 54 : 55, 64 : 56, 74 : 57, 84 : 58, 94 : 59,\n",
        "              5 : 40, 15 : 41, 25 : 42, 35 : 43, 45 : 44, 55 : 45, 65 : 46, 75 : 47, 85 : 48, 95 : 49,\n",
        "              6 : 30, 16 : 31, 26 : 32, 36 : 33, 46 : 34, 56 : 35, 66 : 36, 76 : 37, 86 : 38, 96 : 39,\n",
        "              7 : 20, 17 : 21, 27 : 22, 37 : 23, 47 : 24, 57 : 25, 67 : 26, 77 : 27, 87 : 28, 97 : 29,\n",
        "              8 : 10, 18 : 11, 28 : 12, 38 : 13, 48 : 14, 58 : 15, 68 : 16, 78 : 17, 88 : 18, 98 : 19,\n",
        "              9 : 0, 19 : 1, 29 : 2, 39 : 3, 49 : 4, 59 : 5, 69 : 6, 79 : 7, 89 : 8, 99 : 9}\n",
        "\n",
        "#Adding Data to prediction_set \n",
        "grid_set=[]\n",
        "for i in df.grid.unique():\n",
        "  grid_set.append(i)\n",
        "prediction_set[\"grid\"]=grid_set\n",
        "prediction_set[\"year\"]=2020\n",
        "prediction_set[\"DayOfWeek\"]=5\n",
        "prediction_set[\"month\"]=3\n",
        "prediction_set[\"day\"]=6\n",
        "prediction_set[\"PdDistrict\"]=df[\"grid\"].replace(grid_Pd_dict)"
      ],
      "execution_count": 0,
      "outputs": []
    },
    {
      "cell_type": "markdown",
      "metadata": {
        "id": "VbiYPvjYTkgr",
        "colab_type": "text"
      },
      "source": [
        "**Grid to District Mapping** - No need to Run!!!"
      ]
    },
    {
      "cell_type": "code",
      "metadata": {
        "id": "87kb1viY0xxt",
        "colab_type": "code",
        "colab": {}
      },
      "source": [
        "#Related Works\n",
        "#Dont run!!!\n",
        "# col_one_list = districtToGrid['grid'].tolist()\n",
        "# col_two_list = districtToGrid['PdDistrict'].tolist()\n",
        "\n",
        "# for i in range(len(col_one_list)):\n",
        "#   d[col_one_list[i]]=col_two_list[i]\n",
        "# d\n",
        "# districtToGrid"
      ],
      "execution_count": 0,
      "outputs": []
    },
    {
      "cell_type": "markdown",
      "metadata": {
        "id": "oWpihcnINrGb",
        "colab_type": "text"
      },
      "source": [
        "## **Model Training and Prediction Using KNN**"
      ]
    },
    {
      "cell_type": "markdown",
      "metadata": {
        "id": "g2M2PXNnPLJE",
        "colab_type": "text"
      },
      "source": [
        "**KNN Classifier**"
      ]
    },
    {
      "cell_type": "code",
      "metadata": {
        "id": "g7ZSJyo378S1",
        "colab_type": "code",
        "outputId": "3c478f59-4642-45d6-81a2-d5b428794839",
        "colab": {
          "base_uri": "https://localhost:8080/",
          "height": 0
        }
      },
      "source": [
        "#KNN \n",
        "#2496 cuda cores-gpu\n",
        "knn = KNeighborsClassifier(n_neighbors=5,weights='distance',n_jobs=2)\n",
        "knn.fit(train_X, train_y)\n",
        "print(\"Success\")"
      ],
      "execution_count": 16,
      "outputs": [
        {
          "output_type": "stream",
          "text": [
            "Success\n"
          ],
          "name": "stdout"
        }
      ]
    },
    {
      "cell_type": "markdown",
      "metadata": {
        "id": "0dCcp3zAPea7",
        "colab_type": "text"
      },
      "source": [
        "**Predicted Values and Preparing values for Map**"
      ]
    },
    {
      "cell_type": "code",
      "metadata": {
        "id": "6f3SepW9bqWC",
        "colab_type": "code",
        "colab": {}
      },
      "source": [
        "#Predicted Values and Preparing values for Map\n",
        "predicted_category = knn.predict(prediction_set[features])\n",
        "grid_list = prediction_set[\"grid\"].tolist()\n",
        "\n",
        "map_val_dict={}\n",
        "for i in range(len(grid_list)):\n",
        "  map_val_dict[grid_list[i]]=predicted_category[i]\n",
        "\n",
        "#Adding missing grids in map_val_dict\n",
        "miss_grid=[0,1,9,10,11,21,80,81,91,92,93,94,95,96,99]\n",
        "for i in miss_grid:\n",
        "  map_val_dict[i]=10\n",
        "# map_val_dict"
      ],
      "execution_count": 0,
      "outputs": []
    },
    {
      "cell_type": "markdown",
      "metadata": {
        "id": "WN01REz-PhSv",
        "colab_type": "text"
      },
      "source": [
        "**KNN Accuracy on Test Dataset**"
      ]
    },
    {
      "cell_type": "code",
      "metadata": {
        "id": "xpUQoPlP_E8I",
        "colab_type": "code",
        "colab": {}
      },
      "source": [
        "#KNN Accuracy\n",
        "# predictions_knn = knn.predict(test_X)\n",
        "# print(\"KNN Accuracy :\", metrics.accuracy_score(test_y, predictions_knn)*100)\n",
        "\n",
        "# KNN Accuracy : 41.51674429867669 n=5,size=.9, \"PdDistrict\", \"X\" ,\"hour\", \"grid\"   #test\n",
        "# KNN Accuracy : 41.95911914172783 n=5,size=.9, \"PdDistrict\", \"X\" ,\"hour\", \"grid\"   #orginal"
      ],
      "execution_count": 0,
      "outputs": []
    },
    {
      "cell_type": "markdown",
      "metadata": {
        "id": "oLQZHf1aPp4v",
        "colab_type": "text"
      },
      "source": [
        "## **Other Models** - No need to Run!!!"
      ]
    },
    {
      "cell_type": "code",
      "metadata": {
        "id": "j58FTUJQ92V5",
        "colab_type": "code",
        "colab": {}
      },
      "source": [
        "#Logistic Regression\n",
        "  # log = LogisticRegression(max_iter=4000,n_jobs=2)\n",
        "  # log.fit(train_X, train_y)\n",
        "  # predictions_lr = log.predict(test_X)\n",
        "  # print(\"Success\")"
      ],
      "execution_count": 0,
      "outputs": []
    },
    {
      "cell_type": "code",
      "metadata": {
        "id": "cFCvqgpe_Wb0",
        "colab_type": "code",
        "colab": {}
      },
      "source": [
        "#Logistic Regression Accuracy\n",
        "  # print(\"Gaussian Naive Bayes Accuracy :\", metrics.accuracy_score(test_y, predictions_lr)*100)"
      ],
      "execution_count": 0,
      "outputs": []
    },
    {
      "cell_type": "code",
      "metadata": {
        "id": "kTp_P8lwGup7",
        "colab_type": "code",
        "colab": {}
      },
      "source": [
        "#Gaussian Naive Bayes\n",
        "  # gnb = GaussianNB() \n",
        "  # gnb.fit(train_X, train_y) \n",
        "  # predictions_gnb = gnb.predict(test_X) \n",
        "  # print(\"Success\")"
      ],
      "execution_count": 0,
      "outputs": []
    },
    {
      "cell_type": "code",
      "metadata": {
        "id": "HAMW8zfmH0Rt",
        "colab_type": "code",
        "colab": {}
      },
      "source": [
        "#Gaussian Naive Bayes Accuracy\n",
        "  # print(\"Gaussian Naive Bayes Accuracy :\", metrics.accuracy_score(test_y, predictions_gnb)*100)"
      ],
      "execution_count": 0,
      "outputs": []
    },
    {
      "cell_type": "markdown",
      "metadata": {
        "id": "vj3Jfu7CP6rD",
        "colab_type": "text"
      },
      "source": [
        "## **Map Visualization**"
      ]
    },
    {
      "cell_type": "markdown",
      "metadata": {
        "id": "CLpVof2KSHKC",
        "colab_type": "text"
      },
      "source": [
        "### Grid Function for Map"
      ]
    },
    {
      "cell_type": "code",
      "metadata": {
        "id": "dIAp-A4IBARz",
        "colab_type": "code",
        "colab": {}
      },
      "source": [
        "#Grid Function\n",
        "def get_geojson_grid(upper_right, lower_left, n=10):\n",
        "\n",
        "    all_boxes = []\n",
        "\n",
        "    lat_steps = np.linspace(lower_left[0], upper_right[0], n+1)\n",
        "    lon_steps = np.linspace(lower_left[1], upper_right[1], n+1)\n",
        "\n",
        "    lat_stride = lat_steps[1] - lat_steps[0]\n",
        "    lon_stride = lon_steps[1] - lon_steps[0]\n",
        "    grid_index=0\n",
        "    for lat in lat_steps[:-1]:\n",
        "        for lon in lon_steps[:-1]:\n",
        "            # Define dimensions of box in grid\n",
        "            upper_left = [lon, lat + lat_stride]\n",
        "            upper_right = [lon + lon_stride, lat + lat_stride]\n",
        "            lower_right = [lon + lon_stride, lat]\n",
        "            lower_left = [lon, lat]\n",
        "\n",
        "            # Define json coordinates for polygon\n",
        "            coordinates = [\n",
        "                upper_left,\n",
        "                upper_right,\n",
        "                lower_right,\n",
        "                lower_left,\n",
        "                upper_left\n",
        "            ]\n",
        "\n",
        "            geo_json = {\"type\": \"FeatureCollection\",\n",
        "                        \"properties\":{\n",
        "                            \"lower_left\": lower_left,\n",
        "                            \"upper_right\": upper_right,\n",
        "                            \"name\": grid_index,\n",
        "                            \"category\": int(map_val_dict[grid_index]),\n",
        "                            \n",
        "                        },\n",
        "                        \"features\":[]}\n",
        "\n",
        "            grid_feature = {\n",
        "                \"type\":\"Feature\",\n",
        "                \"geometry\":{\n",
        "                    \"type\":\"Polygon\",\n",
        "                    \"coordinates\": [coordinates]\n",
        "                    \n",
        "                }\n",
        "            }\n",
        "            grid_index+=1\n",
        "            geo_json[\"features\"].append(grid_feature)\n",
        "\n",
        "            all_boxes.append(geo_json)\n",
        "    \n",
        "    return all_boxes"
      ],
      "execution_count": 0,
      "outputs": []
    },
    {
      "cell_type": "markdown",
      "metadata": {
        "id": "a6GTfEI9R8D8",
        "colab_type": "text"
      },
      "source": [
        "### **Map Visualization**\n",
        "\n"
      ]
    },
    {
      "cell_type": "code",
      "metadata": {
        "id": "DBW5vDw3BD1m",
        "colab_type": "code",
        "outputId": "5c430e5f-6732-49d5-f10e-21335f0f6226",
        "colab": {
          "base_uri": "https://localhost:8080/",
          "height": 763
        }
      },
      "source": [
        "#Map with Grid\n",
        "#End Coordinates\n",
        "lower_left = [37.708318, -122.514985]\n",
        "upper_right = [37.811127, -122.356992]\n",
        "\n",
        "SF_COORDINATES = (37.76, -122.45)\n",
        "m = folium.Map(location=SF_COORDINATES, zoom_start=12)  #Creating Map\n",
        "grid = get_geojson_grid(upper_right, lower_left , n=10) #Grid Creation\n",
        "# style_function = lambda x: {'fillColor': '#0000ff' if (x['properties']['name'])%2 == 0 else '#00ff00'}\n",
        "\n",
        "for i, geo_json in enumerate(grid):\n",
        "\n",
        "\n",
        "    # color = plt.cm.Reds(i / len(grid))\n",
        "    # color = mpl.colors.to_hex(color)\n",
        "    blank_list=[49,59,69,79,89,99,98,88,80,90,91,81]  #Empty cells\n",
        "    if(i in blank_list): #or geo_json['properties']['category']==10):    #For No Crime\n",
        "      continue\n",
        "    elif(geo_json['properties']['category']==1):    #WARRANTS\n",
        "      gj1 = folium.GeoJson(geo_json,\n",
        "                          style_function=lambda feature : {'fillColor': \"#c7000a\"\n",
        "                          ,'color':\"black\"\n",
        "                          , 'opacity':0.35,'weight': 1,'fillOpacity': 0.65,} \n",
        "                          ).add_to(m) \n",
        "      m.add_child(gj1)\n",
        "    elif(geo_json['properties']['category'] == 2):    #THEFT\n",
        "      gj = folium.GeoJson(geo_json,\n",
        "                          style_function=lambda feature : {'fillColor': \"#ed0274\"   #pink\n",
        "                          ,'color':\"black\"\n",
        "                          , 'opacity':0.35,'weight': 1,'fillOpacity': 0.65,} \n",
        "                          ).add_to(m) \n",
        "      m.add_child(gj)\n",
        "    elif(geo_json['properties']['category'] == 3):    #ARSON\n",
        "        gj = folium.GeoJson(geo_json,\n",
        "                            style_function=lambda feature : {'fillColor': \"#dff702\"\n",
        "                            ,'color':\"black\"\n",
        "                            , 'opacity':0.35,'weight': 1,'fillOpacity': .65,} \n",
        "                            ).add_to(m) \n",
        "        m.add_child(gj)\n",
        "    elif(geo_json['properties']['category'] == 4):    #ASSAULT\n",
        "      gj = folium.GeoJson(geo_json,\n",
        "                          style_function=lambda feature : {'fillColor': \"#830fa6\"\n",
        "                          ,'color':\"black\"\n",
        "                          , 'opacity':0.35,'weight': 1,'fillOpacity': 0.65,} \n",
        "                          ).add_to(m) \n",
        "      m.add_child(gj)\n",
        "    elif(geo_json['properties']['category']== 5):   #WEAPON LAWS\n",
        "      gj = folium.GeoJson(geo_json,\n",
        "                          style_function=lambda feature : {'fillColor': \"#6b09eb\"\n",
        "                          ,'color':\"black\"\n",
        "                          , 'opacity':0.35,'weight': 1,'fillOpacity': 0.65,} \n",
        "                          ).add_to(m) \n",
        "      m.add_child(gj)\n",
        "    elif(geo_json['properties']['category'] == 6):  #BURGLARY\n",
        "      gj = folium.GeoJson(geo_json,\n",
        "                          style_function=lambda feature : {'fillColor': \"#171ee3 \"\n",
        "                          ,'color':\"black\"\n",
        "                          , 'opacity':0.35,'weight': 1,'fillOpacity': 0.65,} \n",
        "                          ).add_to(m) \n",
        "      m.add_child(gj)\n",
        "    elif(geo_json['properties']['category'] == 7):    #KIDNAPPING\n",
        "      gj = folium.GeoJson(geo_json,\n",
        "                          style_function=lambda feature : {'fillColor': \"#2e86f2\"\n",
        "                          ,'color':\"black\"\n",
        "                          , 'opacity':0.35,'weight': 1,'fillOpacity': 0.65,} \n",
        "                          ).add_to(m) \n",
        "      m.add_child(gj)\n",
        "    elif(geo_json['properties']['category'] == 8):    #SEX OFFENSES\n",
        "      gj = folium.GeoJson(geo_json,\n",
        "                          style_function=lambda feature : {'fillColor': \"#00b6c7\"\n",
        "                          ,'color':\"black\"\n",
        "                          , 'opacity':0.35,'weight': 1,'fillOpacity': 0.65,} \n",
        "                          ).add_to(m) \n",
        "      m.add_child(gj)\n",
        "    elif(geo_json['properties']['category'] == 9):    #SEX OFFENSES FORCIBLE\n",
        "      gj = folium.GeoJson(geo_json,\n",
        "                          style_function=lambda feature : {'fillColor': \"#00c25e\"\n",
        "                          ,'color':\"black\"\n",
        "                          , 'opacity':0.35,'weight': 1,'fillOpacity': 0.65,} \n",
        "                          ).add_to(m) \n",
        "      m.add_child(gj)\n",
        "    elif(geo_json['properties']['category'] == 11):   #OBSCENE\n",
        "      gj = folium.GeoJson(geo_json,\n",
        "                          style_function=lambda feature : {'fillColor': \"#c27e00 \"\n",
        "                          ,'color':\"black\"\n",
        "                          , 'opacity':0.35,'weight': 1,'fillOpacity': 0.65,} \n",
        "                          ).add_to(m) \n",
        "      m.add_child(gj)\n",
        "    else:\n",
        "      gj2=folium.GeoJson(geo_json,\n",
        "                          style_function=lambda feature : {'fillColor': \"black\" \n",
        "                          ,'color':\"black\"\n",
        "                          , 'opacity':0,'weight': 1,'fillOpacity': 0.05,} \n",
        "                          )\n",
        "      m.add_child(gj2) \n",
        "    # folium.Marker([37.775421\t\t,-122.403405\t], popup= \"here\" ,  icon=folium.Icon(color='red')).add_to(m)\n",
        "\n",
        "m\n",
        "# import IPython\n",
        "# IPython.display.HTML(filename=\"/content/out.html\")"
      ],
      "execution_count": 33,
      "outputs": [
        {
          "output_type": "execute_result",
          "data": {
            "text/html": [
              "<div style=\"width:100%;\"><div style=\"position:relative;width:100%;height:0;padding-bottom:60%;\"><iframe src=\"data:text/html;charset=utf-8;base64,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\" style=\"position:absolute;width:100%;height:100%;left:0;top:0;border:none !important;\" allowfullscreen webkitallowfullscreen mozallowfullscreen></iframe></div></div>"
            ],
            "text/plain": [
              "<folium.folium.Map at 0x7f9903d53f98>"
            ]
          },
          "metadata": {
            "tags": []
          },
          "execution_count": 33
        }
      ]
    }
  ]
}