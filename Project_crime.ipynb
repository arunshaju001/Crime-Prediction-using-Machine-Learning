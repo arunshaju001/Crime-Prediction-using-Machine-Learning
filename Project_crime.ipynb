{
  "nbformat": 4,
  "nbformat_minor": 0,
  "metadata": {
    "colab": {
      "name": "Project_crime.ipynb",
      "provenance": [],
      "collapsed_sections": [
        "NgXwXeUONRzW",
        "rnoQEYkaL2zE",
        "89yQb8kxMIhc",
        "5D-zaCb0Mzh5",
        "oWpihcnINrGb",
        "oLQZHf1aPp4v",
        "vj3Jfu7CP6rD",
        "CLpVof2KSHKC"
      ],
      "machine_shape": "hm",
      "mount_file_id": "1i2NA8J8jb-s3mKQrutzsw-UHBspdKI9e",
      "authorship_tag": "ABX9TyP3PEKxCDVucvYtdv1ZFIWl",
      "include_colab_link": true
    },
    "kernelspec": {
      "name": "python3",
      "display_name": "Python 3"
    },
    "accelerator": "GPU"
  },
  "cells": [
    {
      "cell_type": "markdown",
      "metadata": {
        "id": "view-in-github",
        "colab_type": "text"
      },
      "source": [
        "<a href=\"https://colab.research.google.com/github/arunshaju001/Crime-Prediction-using-Machine-Learning/blob/testing/Project_crime.ipynb\" target=\"_parent\"><img src=\"https://colab.research.google.com/assets/colab-badge.svg\" alt=\"Open In Colab\"/></a>"
      ]
    },
    {
      "cell_type": "markdown",
      "metadata": {
        "id": "MLh2HLyZKndZ",
        "colab_type": "text"
      },
      "source": [
        "# **Crime Prediction and Visualization**"
      ]
    },
    {
      "cell_type": "markdown",
      "metadata": {
        "id": "NgXwXeUONRzW",
        "colab_type": "text"
      },
      "source": [
        "## **Libraries**"
      ]
    },
    {
      "cell_type": "code",
      "metadata": {
        "id": "2-dHdsPqC5xW",
        "colab_type": "code",
        "colab": {
          "base_uri": "https://localhost:8080/",
          "height": 960
        },
        "outputId": "85a65e58-c65c-4db0-b201-e61d767860e2"
      },
      "source": [
        "#Libraries for map \n",
        "!apt-get install libgeos-dev\n",
        "!pip install https://github.com/matplotlib/basemap/archive/master.zip\n",
        "from mpl_toolkits.basemap import Basemap"
      ],
      "execution_count": 1,
      "outputs": [
        {
          "output_type": "stream",
          "text": [
            "\rReading package lists... 0%\r\rReading package lists... 0%\r\rReading package lists... 0%\r\rReading package lists... 6%\r\rReading package lists... 6%\r\rReading package lists... 6%\r\rReading package lists... 6%\r\rReading package lists... 61%\r\rReading package lists... 61%\r\rReading package lists... 62%\r\rReading package lists... 62%\r\rReading package lists... 70%\r\rReading package lists... 70%\r\rReading package lists... 71%\r\rReading package lists... 71%\r\rReading package lists... 80%\r\rReading package lists... 80%\r\rReading package lists... 80%\r\rReading package lists... 80%\r\rReading package lists... 80%\r\rReading package lists... 80%\r\rReading package lists... 80%\r\rReading package lists... 80%\r\rReading package lists... 80%\r\rReading package lists... 86%\r\rReading package lists... 86%\r\rReading package lists... 87%\r\rReading package lists... 87%\r\rReading package lists... 93%\r\rReading package lists... 93%\r\rReading package lists... 93%\r\rReading package lists... 93%\r\rReading package lists... 93%\r\rReading package lists... 93%\r\rReading package lists... 94%\r\rReading package lists... 94%\r\rReading package lists... 95%\r\rReading package lists... 95%\r\rReading package lists... 98%\r\rReading package lists... 98%\r\rReading package lists... 98%\r\rReading package lists... 98%\r\rReading package lists... Done\r\n",
            "\rBuilding dependency tree... 0%\r\rBuilding dependency tree... 0%\r\rBuilding dependency tree... 50%\r\rBuilding dependency tree... 50%\r\rBuilding dependency tree       \r\n",
            "\rReading state information... 0%\r\rReading state information... 0%\r\rReading state information... Done\r\n",
            "The following package was automatically installed and is no longer required:\n",
            "  libnvidia-common-440\n",
            "Use 'apt autoremove' to remove it.\n",
            "Suggested packages:\n",
            "  libgdal-doc\n",
            "The following NEW packages will be installed:\n",
            "  libgeos-dev\n",
            "0 upgraded, 1 newly installed, 0 to remove and 35 not upgraded.\n",
            "Need to get 73.1 kB of archives.\n",
            "After this operation, 486 kB of additional disk space will be used.\n",
            "Get:1 http://archive.ubuntu.com/ubuntu bionic/universe amd64 libgeos-dev amd64 3.6.2-1build2 [73.1 kB]\n",
            "Fetched 73.1 kB in 1s (123 kB/s)\n",
            "Selecting previously unselected package libgeos-dev.\n",
            "(Reading database ... 144465 files and directories currently installed.)\n",
            "Preparing to unpack .../libgeos-dev_3.6.2-1build2_amd64.deb ...\n",
            "Unpacking libgeos-dev (3.6.2-1build2) ...\n",
            "Setting up libgeos-dev (3.6.2-1build2) ...\n",
            "Processing triggers for man-db (2.8.3-2ubuntu0.1) ...\n",
            "Collecting https://github.com/matplotlib/basemap/archive/master.zip\n",
            "\u001b[?25l  Downloading https://github.com/matplotlib/basemap/archive/master.zip (133.1MB)\n",
            "\u001b[K     |████████████████████████████████| 133.1MB 23kB/s \n",
            "\u001b[?25hRequirement already satisfied: matplotlib!=3.0.1,>=1.0.0 in /usr/local/lib/python3.6/dist-packages (from basemap==1.2.1) (3.2.2)\n",
            "Requirement already satisfied: numpy>=1.2.1 in /usr/local/lib/python3.6/dist-packages (from basemap==1.2.1) (1.18.5)\n",
            "Collecting pyproj>=1.9.3\n",
            "\u001b[?25l  Downloading https://files.pythonhosted.org/packages/e5/c3/071e080230ac4b6c64f1a2e2f9161c9737a2bc7b683d2c90b024825000c0/pyproj-2.6.1.post1-cp36-cp36m-manylinux2010_x86_64.whl (10.9MB)\n",
            "\u001b[K     |████████████████████████████████| 10.9MB 4.7MB/s \n",
            "\u001b[?25hCollecting pyshp>=1.2.0\n",
            "\u001b[?25l  Downloading https://files.pythonhosted.org/packages/27/16/3bf15aa864fb77845fab8007eda22c2bd67bd6c1fd13496df452c8c43621/pyshp-2.1.0.tar.gz (215kB)\n",
            "\u001b[K     |████████████████████████████████| 225kB 55.1MB/s \n",
            "\u001b[?25hRequirement already satisfied: six in /usr/local/lib/python3.6/dist-packages (from basemap==1.2.1) (1.15.0)\n",
            "Requirement already satisfied: cycler>=0.10 in /usr/local/lib/python3.6/dist-packages (from matplotlib!=3.0.1,>=1.0.0->basemap==1.2.1) (0.10.0)\n",
            "Requirement already satisfied: python-dateutil>=2.1 in /usr/local/lib/python3.6/dist-packages (from matplotlib!=3.0.1,>=1.0.0->basemap==1.2.1) (2.8.1)\n",
            "Requirement already satisfied: kiwisolver>=1.0.1 in /usr/local/lib/python3.6/dist-packages (from matplotlib!=3.0.1,>=1.0.0->basemap==1.2.1) (1.2.0)\n",
            "Requirement already satisfied: pyparsing!=2.0.4,!=2.1.2,!=2.1.6,>=2.0.1 in /usr/local/lib/python3.6/dist-packages (from matplotlib!=3.0.1,>=1.0.0->basemap==1.2.1) (2.4.7)\n",
            "Building wheels for collected packages: basemap, pyshp\n",
            "  Building wheel for basemap (setup.py) ... \u001b[?25l\u001b[?25hdone\n",
            "  Created wheel for basemap: filename=basemap-1.2.1-cp36-cp36m-linux_x86_64.whl size=121756018 sha256=5a244b651bbf3dd771291402a64e45d6942c110a36028a9751be7f1632cf8a9b\n",
            "  Stored in directory: /tmp/pip-ephem-wheel-cache-x_bm7orh/wheels/98/4a/fc/ce719b75d97e646645c225f3332b1b217536100314922e9572\n",
            "  Building wheel for pyshp (setup.py) ... \u001b[?25l\u001b[?25hdone\n",
            "  Created wheel for pyshp: filename=pyshp-2.1.0-cp36-none-any.whl size=32609 sha256=4ca066fb9dbfaa77ea3625caefc5903c03e8c205ec416f69ae6cc0411f78605e\n",
            "  Stored in directory: /root/.cache/pip/wheels/a6/0c/de/321b5192ad416b328975a2f0385f72c64db4656501eba7cc1a\n",
            "Successfully built basemap pyshp\n",
            "Installing collected packages: pyproj, pyshp, basemap\n",
            "Successfully installed basemap-1.2.1 pyproj-2.6.1.post1 pyshp-2.1.0\n"
          ],
          "name": "stdout"
        },
        {
          "output_type": "display_data",
          "data": {
            "application/vnd.colab-display-data+json": {
              "pip_warning": {
                "packages": [
                  "mpl_toolkits"
                ]
              }
            }
          },
          "metadata": {
            "tags": []
          }
        }
      ]
    },
    {
      "cell_type": "code",
      "metadata": {
        "id": "CUwxg-A8NY1z",
        "colab_type": "code",
        "colab": {
          "base_uri": "https://localhost:8080/",
          "height": 247
        },
        "outputId": "a2deca1b-762b-4eac-da14-3b947ffc98d2"
      },
      "source": [
        "!pip install xgboost\n",
        "!pip install --upgrade xgboost"
      ],
      "execution_count": 2,
      "outputs": [
        {
          "output_type": "stream",
          "text": [
            "Requirement already satisfied: xgboost in /usr/local/lib/python3.6/dist-packages (0.90)\n",
            "Requirement already satisfied: numpy in /usr/local/lib/python3.6/dist-packages (from xgboost) (1.18.5)\n",
            "Requirement already satisfied: scipy in /usr/local/lib/python3.6/dist-packages (from xgboost) (1.4.1)\n",
            "Collecting xgboost\n",
            "\u001b[?25l  Downloading https://files.pythonhosted.org/packages/7c/32/a11befbb003e0e6b7e062a77f010dfcec0ec3589be537b02d2eb2ff93b9a/xgboost-1.1.1-py3-none-manylinux2010_x86_64.whl (127.6MB)\n",
            "\u001b[K     |████████████████████████████████| 127.6MB 24kB/s \n",
            "\u001b[?25hRequirement already satisfied, skipping upgrade: scipy in /usr/local/lib/python3.6/dist-packages (from xgboost) (1.4.1)\n",
            "Requirement already satisfied, skipping upgrade: numpy in /usr/local/lib/python3.6/dist-packages (from xgboost) (1.18.5)\n",
            "Installing collected packages: xgboost\n",
            "  Found existing installation: xgboost 0.90\n",
            "    Uninstalling xgboost-0.90:\n",
            "      Successfully uninstalled xgboost-0.90\n",
            "Successfully installed xgboost-1.1.1\n"
          ],
          "name": "stdout"
        }
      ]
    },
    {
      "cell_type": "code",
      "metadata": {
        "id": "NPgq_AS3cz6F",
        "colab_type": "code",
        "colab": {
          "base_uri": "https://localhost:8080/",
          "height": 72
        },
        "outputId": "56f5d8c5-29f0-49b5-dac7-0681bbf1b5ea"
      },
      "source": [
        "import pandas as pd\n",
        "import numpy as np\n",
        "import datetime\n",
        "import time\n",
        "from sklearn.model_selection import train_test_split\n",
        "from sklearn.neighbors import KNeighborsClassifier\n",
        "from sklearn.metrics import mean_absolute_error\n",
        "from sklearn.linear_model import LogisticRegression\n",
        "from sklearn.naive_bayes import GaussianNB \n",
        "from sklearn import metrics \n",
        "import json\n",
        "import matplotlib as mpl\n",
        "import folium\n",
        "from folium.plugins import MarkerCluster\n",
        "import math\n",
        "import matplotlib.pyplot as plt\n",
        "from sklearn.externals import joblib \n",
        "import IPython\n",
        "from google.colab import output\n",
        "from IPython.display import clear_output\n",
        "from xgboost import XGBClassifier\n",
        "%matplotlib inline"
      ],
      "execution_count": 3,
      "outputs": [
        {
          "output_type": "stream",
          "text": [
            "/usr/local/lib/python3.6/dist-packages/sklearn/externals/joblib/__init__.py:15: FutureWarning: sklearn.externals.joblib is deprecated in 0.21 and will be removed in 0.23. Please import this functionality directly from joblib, which can be installed with: pip install joblib. If this warning is raised when loading pickled models, you may need to re-serialize those models with scikit-learn 0.21+.\n",
            "  warnings.warn(msg, category=FutureWarning)\n"
          ],
          "name": "stderr"
        }
      ]
    },
    {
      "cell_type": "markdown",
      "metadata": {
        "id": "rnoQEYkaL2zE",
        "colab_type": "text"
      },
      "source": [
        "## **Mapping Lattitudes and Longitudes to Grids** - No need to Run!!!"
      ]
    },
    {
      "cell_type": "code",
      "metadata": {
        "id": "U-R5L3662fRH",
        "colab_type": "code",
        "colab": {}
      },
      "source": [
        "#Creating dataset with grid value\n",
        "# df.to_csv('/content/drive/My Drive/Colab Notebooks/Project/grid_data_large.csv', index = False)"
      ],
      "execution_count": 4,
      "outputs": []
    },
    {
      "cell_type": "code",
      "metadata": {
        "id": "vcaT70c8Iyc7",
        "colab_type": "code",
        "colab": {}
      },
      "source": [
        "#Rmoving rows with offset values\n",
        "# df=df[df.Y <= 37.811127]\n",
        "# df=df[ df.Y>=37.708318]\n",
        "# df=df[df.X <= -122.356992]\n",
        "# df=df[ df.X>=-122.514985]"
      ],
      "execution_count": 5,
      "outputs": []
    },
    {
      "cell_type": "code",
      "metadata": {
        "id": "-QxeMr6EDkle",
        "colab_type": "code",
        "colab": {}
      },
      "source": [
        "#Lat Long Mapping\n",
        "#Dont run!!!\n",
        "\n",
        "# def get_grid_val(lat_x,lon_y):\n",
        "#   lat_x=37.811128-lat_x\n",
        "#   lat_x=lat_x/.0102809\n",
        "#   lat_x=math.floor(lat_x)\n",
        "#   lon_y=-122.514985-lon_y\n",
        "#   lon_y=lon_y/.0157993\n",
        "#   lon_y=abs(lon_y)\n",
        "#   lon_y=math.floor(lon_y)\n",
        "#   xy=lon_y*10+lat_x\n",
        "#   return(xy)\n",
        "\n",
        "# d=[]\n",
        "# for index, row in df.iterrows(): \n",
        "#     d.append(get_grid_val(row['Y'], row['X']))\n",
        "# df[\"grid\"]=d\n",
        "# print(\"success\")"
      ],
      "execution_count": 6,
      "outputs": []
    },
    {
      "cell_type": "markdown",
      "metadata": {
        "id": "89yQb8kxMIhc",
        "colab_type": "text"
      },
      "source": [
        "## **Preparing Dataset for Training**"
      ]
    },
    {
      "cell_type": "markdown",
      "metadata": {
        "id": "OcgrzYehLs7C",
        "colab_type": "text"
      },
      "source": [
        "**Read dataset from drive and write into Local**"
      ]
    },
    {
      "cell_type": "code",
      "metadata": {
        "id": "SWbra_nMySph",
        "colab_type": "code",
        "colab": {
          "base_uri": "https://localhost:8080/",
          "height": 0
        },
        "outputId": "8b503a45-c8e6-4c13-8c6d-ed2805d3f7fb"
      },
      "source": [
        "#Read dataset from drive and write into sample_data\n",
        "#sfnew - orginal\n",
        "#grid_data - small with grid\n",
        "#train - small ds\n",
        "data = pd.read_csv('/content/drive/My Drive/Colab Notebooks/Project/grid_data_large.csv')\n",
        "#Saving to local\n",
        "data.to_csv('/content/sample_data/sfnew.csv', index=False)\n",
        "#Reading the Dataset\n",
        "df=pd.read_csv('/content/sample_data/sfnew.csv')\n",
        "df.head()"
      ],
      "execution_count": 7,
      "outputs": [
        {
          "output_type": "execute_result",
          "data": {
            "text/html": [
              "<div>\n",
              "<style scoped>\n",
              "    .dataframe tbody tr th:only-of-type {\n",
              "        vertical-align: middle;\n",
              "    }\n",
              "\n",
              "    .dataframe tbody tr th {\n",
              "        vertical-align: top;\n",
              "    }\n",
              "\n",
              "    .dataframe thead th {\n",
              "        text-align: right;\n",
              "    }\n",
              "</style>\n",
              "<table border=\"1\" class=\"dataframe\">\n",
              "  <thead>\n",
              "    <tr style=\"text-align: right;\">\n",
              "      <th></th>\n",
              "      <th>IncidntNum</th>\n",
              "      <th>Category</th>\n",
              "      <th>Descript</th>\n",
              "      <th>DayOfWeek</th>\n",
              "      <th>Date</th>\n",
              "      <th>Time</th>\n",
              "      <th>PdDistrict</th>\n",
              "      <th>Resolution</th>\n",
              "      <th>Address</th>\n",
              "      <th>X</th>\n",
              "      <th>Y</th>\n",
              "      <th>Location</th>\n",
              "      <th>PdId</th>\n",
              "      <th>grid</th>\n",
              "    </tr>\n",
              "  </thead>\n",
              "  <tbody>\n",
              "    <tr>\n",
              "      <th>0</th>\n",
              "      <td>146196161</td>\n",
              "      <td>NON-CRIMINAL</td>\n",
              "      <td>LOST PROPERTY</td>\n",
              "      <td>Tuesday</td>\n",
              "      <td>09/23/2014</td>\n",
              "      <td>01:00</td>\n",
              "      <td>SOUTHERN</td>\n",
              "      <td>NONE</td>\n",
              "      <td>800 Block of BRYANT ST</td>\n",
              "      <td>-122.403405</td>\n",
              "      <td>37.775421</td>\n",
              "      <td>POINT (-122.403404791479 37.775420706711)</td>\n",
              "      <td>14619616171000</td>\n",
              "      <td>73</td>\n",
              "    </tr>\n",
              "    <tr>\n",
              "      <th>1</th>\n",
              "      <td>150045675</td>\n",
              "      <td>ASSAULT</td>\n",
              "      <td>BATTERY</td>\n",
              "      <td>Thursday</td>\n",
              "      <td>01/15/2015</td>\n",
              "      <td>17:00</td>\n",
              "      <td>TARAVAL</td>\n",
              "      <td>NONE</td>\n",
              "      <td>1800 Block of VICENTE ST</td>\n",
              "      <td>-122.485604</td>\n",
              "      <td>37.738821</td>\n",
              "      <td>POINT (-122.48560378101 37.7388214326705)</td>\n",
              "      <td>15004567504134</td>\n",
              "      <td>17</td>\n",
              "    </tr>\n",
              "    <tr>\n",
              "      <th>2</th>\n",
              "      <td>140632022</td>\n",
              "      <td>SUSPICIOUS OCC</td>\n",
              "      <td>INVESTIGATIVE DETENTION</td>\n",
              "      <td>Wednesday</td>\n",
              "      <td>07/30/2014</td>\n",
              "      <td>09:32</td>\n",
              "      <td>BAYVIEW</td>\n",
              "      <td>NONE</td>\n",
              "      <td>100 Block of GILLETTE AV</td>\n",
              "      <td>-122.396535</td>\n",
              "      <td>37.710660</td>\n",
              "      <td>POINT (-122.396535107224 37.7106603302503)</td>\n",
              "      <td>14063202264085</td>\n",
              "      <td>79</td>\n",
              "    </tr>\n",
              "    <tr>\n",
              "      <th>3</th>\n",
              "      <td>150383259</td>\n",
              "      <td>ASSAULT</td>\n",
              "      <td>BATTERY</td>\n",
              "      <td>Saturday</td>\n",
              "      <td>05/02/2015</td>\n",
              "      <td>23:10</td>\n",
              "      <td>BAYVIEW</td>\n",
              "      <td>ARREST, BOOKED</td>\n",
              "      <td>2400 Block of PHELPS ST</td>\n",
              "      <td>-122.400131</td>\n",
              "      <td>37.730093</td>\n",
              "      <td>POINT (-122.400130573297 37.7300925390327)</td>\n",
              "      <td>15038325904134</td>\n",
              "      <td>77</td>\n",
              "    </tr>\n",
              "    <tr>\n",
              "      <th>4</th>\n",
              "      <td>40855122</td>\n",
              "      <td>SUICIDE</td>\n",
              "      <td>SUICIDE BY JUMPING</td>\n",
              "      <td>Tuesday</td>\n",
              "      <td>07/27/2004</td>\n",
              "      <td>15:19</td>\n",
              "      <td>SOUTHERN</td>\n",
              "      <td>NONE</td>\n",
              "      <td>500 Block of I-80</td>\n",
              "      <td>-122.386667</td>\n",
              "      <td>37.789882</td>\n",
              "      <td>POINT (-122.386667033903 37.7898821569191)</td>\n",
              "      <td>4085512260170</td>\n",
              "      <td>82</td>\n",
              "    </tr>\n",
              "  </tbody>\n",
              "</table>\n",
              "</div>"
            ],
            "text/plain": [
              "   IncidntNum        Category  ...            PdId grid\n",
              "0   146196161    NON-CRIMINAL  ...  14619616171000   73\n",
              "1   150045675         ASSAULT  ...  15004567504134   17\n",
              "2   140632022  SUSPICIOUS OCC  ...  14063202264085   79\n",
              "3   150383259         ASSAULT  ...  15038325904134   77\n",
              "4    40855122         SUICIDE  ...   4085512260170   82\n",
              "\n",
              "[5 rows x 14 columns]"
            ]
          },
          "metadata": {
            "tags": []
          },
          "execution_count": 7
        }
      ]
    },
    {
      "cell_type": "code",
      "metadata": {
        "id": "eoRceKXTYP41",
        "colab_type": "code",
        "colab": {
          "base_uri": "https://localhost:8080/",
          "height": 0
        },
        "outputId": "a8c73aa6-dc25-4892-8792-eb33e8007fe5"
      },
      "source": [
        "df.head()"
      ],
      "execution_count": 8,
      "outputs": [
        {
          "output_type": "execute_result",
          "data": {
            "text/html": [
              "<div>\n",
              "<style scoped>\n",
              "    .dataframe tbody tr th:only-of-type {\n",
              "        vertical-align: middle;\n",
              "    }\n",
              "\n",
              "    .dataframe tbody tr th {\n",
              "        vertical-align: top;\n",
              "    }\n",
              "\n",
              "    .dataframe thead th {\n",
              "        text-align: right;\n",
              "    }\n",
              "</style>\n",
              "<table border=\"1\" class=\"dataframe\">\n",
              "  <thead>\n",
              "    <tr style=\"text-align: right;\">\n",
              "      <th></th>\n",
              "      <th>IncidntNum</th>\n",
              "      <th>Category</th>\n",
              "      <th>Descript</th>\n",
              "      <th>DayOfWeek</th>\n",
              "      <th>Date</th>\n",
              "      <th>Time</th>\n",
              "      <th>PdDistrict</th>\n",
              "      <th>Resolution</th>\n",
              "      <th>Address</th>\n",
              "      <th>X</th>\n",
              "      <th>Y</th>\n",
              "      <th>Location</th>\n",
              "      <th>PdId</th>\n",
              "      <th>grid</th>\n",
              "    </tr>\n",
              "  </thead>\n",
              "  <tbody>\n",
              "    <tr>\n",
              "      <th>0</th>\n",
              "      <td>146196161</td>\n",
              "      <td>NON-CRIMINAL</td>\n",
              "      <td>LOST PROPERTY</td>\n",
              "      <td>Tuesday</td>\n",
              "      <td>09/23/2014</td>\n",
              "      <td>01:00</td>\n",
              "      <td>SOUTHERN</td>\n",
              "      <td>NONE</td>\n",
              "      <td>800 Block of BRYANT ST</td>\n",
              "      <td>-122.403405</td>\n",
              "      <td>37.775421</td>\n",
              "      <td>POINT (-122.403404791479 37.775420706711)</td>\n",
              "      <td>14619616171000</td>\n",
              "      <td>73</td>\n",
              "    </tr>\n",
              "    <tr>\n",
              "      <th>1</th>\n",
              "      <td>150045675</td>\n",
              "      <td>ASSAULT</td>\n",
              "      <td>BATTERY</td>\n",
              "      <td>Thursday</td>\n",
              "      <td>01/15/2015</td>\n",
              "      <td>17:00</td>\n",
              "      <td>TARAVAL</td>\n",
              "      <td>NONE</td>\n",
              "      <td>1800 Block of VICENTE ST</td>\n",
              "      <td>-122.485604</td>\n",
              "      <td>37.738821</td>\n",
              "      <td>POINT (-122.48560378101 37.7388214326705)</td>\n",
              "      <td>15004567504134</td>\n",
              "      <td>17</td>\n",
              "    </tr>\n",
              "    <tr>\n",
              "      <th>2</th>\n",
              "      <td>140632022</td>\n",
              "      <td>SUSPICIOUS OCC</td>\n",
              "      <td>INVESTIGATIVE DETENTION</td>\n",
              "      <td>Wednesday</td>\n",
              "      <td>07/30/2014</td>\n",
              "      <td>09:32</td>\n",
              "      <td>BAYVIEW</td>\n",
              "      <td>NONE</td>\n",
              "      <td>100 Block of GILLETTE AV</td>\n",
              "      <td>-122.396535</td>\n",
              "      <td>37.710660</td>\n",
              "      <td>POINT (-122.396535107224 37.7106603302503)</td>\n",
              "      <td>14063202264085</td>\n",
              "      <td>79</td>\n",
              "    </tr>\n",
              "    <tr>\n",
              "      <th>3</th>\n",
              "      <td>150383259</td>\n",
              "      <td>ASSAULT</td>\n",
              "      <td>BATTERY</td>\n",
              "      <td>Saturday</td>\n",
              "      <td>05/02/2015</td>\n",
              "      <td>23:10</td>\n",
              "      <td>BAYVIEW</td>\n",
              "      <td>ARREST, BOOKED</td>\n",
              "      <td>2400 Block of PHELPS ST</td>\n",
              "      <td>-122.400131</td>\n",
              "      <td>37.730093</td>\n",
              "      <td>POINT (-122.400130573297 37.7300925390327)</td>\n",
              "      <td>15038325904134</td>\n",
              "      <td>77</td>\n",
              "    </tr>\n",
              "    <tr>\n",
              "      <th>4</th>\n",
              "      <td>40855122</td>\n",
              "      <td>SUICIDE</td>\n",
              "      <td>SUICIDE BY JUMPING</td>\n",
              "      <td>Tuesday</td>\n",
              "      <td>07/27/2004</td>\n",
              "      <td>15:19</td>\n",
              "      <td>SOUTHERN</td>\n",
              "      <td>NONE</td>\n",
              "      <td>500 Block of I-80</td>\n",
              "      <td>-122.386667</td>\n",
              "      <td>37.789882</td>\n",
              "      <td>POINT (-122.386667033903 37.7898821569191)</td>\n",
              "      <td>4085512260170</td>\n",
              "      <td>82</td>\n",
              "    </tr>\n",
              "  </tbody>\n",
              "</table>\n",
              "</div>"
            ],
            "text/plain": [
              "   IncidntNum        Category  ...            PdId grid\n",
              "0   146196161    NON-CRIMINAL  ...  14619616171000   73\n",
              "1   150045675         ASSAULT  ...  15004567504134   17\n",
              "2   140632022  SUSPICIOUS OCC  ...  14063202264085   79\n",
              "3   150383259         ASSAULT  ...  15038325904134   77\n",
              "4    40855122         SUICIDE  ...   4085512260170   82\n",
              "\n",
              "[5 rows x 14 columns]"
            ]
          },
          "metadata": {
            "tags": []
          },
          "execution_count": 8
        }
      ]
    },
    {
      "cell_type": "markdown",
      "metadata": {
        "id": "zLijo1tcLepI",
        "colab_type": "text"
      },
      "source": [
        "**Creating year, month, day and hour columns**"
      ]
    },
    {
      "cell_type": "code",
      "metadata": {
        "id": "1Y8vwBfqZ8Uv",
        "colab_type": "code",
        "colab": {}
      },
      "source": [
        "#Creating year, month and day columns\n",
        "df['year'] = pd.DatetimeIndex(df['Date']).year\n",
        "df['month'] = pd.DatetimeIndex(df['Date']).month\n",
        "df['day'] = pd.DatetimeIndex(df['Date']).day\n",
        "# df['hour'] = pd.DatetimeIndex(df['Date']).hour  #In crime,grid_data\n",
        "df['hour'] = pd.DatetimeIndex(df['Time']).hour    #In sfnew,grid_data_large"
      ],
      "execution_count": 9,
      "outputs": []
    },
    {
      "cell_type": "markdown",
      "metadata": {
        "id": "-HF6JX0iKTZK",
        "colab_type": "text"
      },
      "source": [
        "**Category conversion**"
      ]
    },
    {
      "cell_type": "code",
      "metadata": {
        "colab_type": "code",
        "id": "57iDym1G5xdE",
        "colab": {}
      },
      "source": [
        "#Category conversion\n",
        "crime_dict={  'WARRANTS':1,   #c7000a\n",
        "              'LARCENY/THEFT':2, 'VEHICLE THEFT':2,'ROBBERY':2,'STOLEN PROPERTY':2,'EXTORTION':2, 'EMBEZZLEMENT':2,   #ed0274\n",
        "              'VANDALISM':3,'ARSON':3,    #a6039e\n",
        "              'ASSAULT':4, #830fa6\n",
        "              'WEAPON LAWS':5,  #6b09eb\n",
        "              'BURGLARY':6,'TRESPASS':6,    #171ee3          \n",
        "              'MISSING PERSON':7,  'KIDNAPPING':7,    #2e86f2\n",
        "              'SEX OFFENSES NON FORCIBLE':8, 'PROSTITUTION':8,'SEX OFFENSES, NON FORCIBLE':8,   #00b6c7\n",
        "              'SEX OFFENSES FORCIBLE':9, 'SEX OFFENSES, FORCIBLE':9,   #00c25e            \n",
        "              'LOITERING':10, 'SUICIDE':10,'DISORDERLY CONDUCT':10, 'DRIVING UNDER THE INFLUENCE':10, #none           \n",
        "              'TREA':10, 'RECOVERED VEHICLE':10, 'OTHER OFFENSES':10,'BAD CHECKS':10,'GAMBLING':10,\n",
        "              'FORGERY/COUNTERFEITING':10,'SECONDARY CODES':10,'NON-CRIMINAL':10,'SUSPICIOUS OCC':10, 'DRUG/NARCOTIC':10,  \n",
        "              'FRAUD':10, 'RUNAWAY':10,'DRUNKENNESS':10, 'FAMILY OFFENSES':10,'LIQUOR LAWS':10,  'BRIBERY':10,        \n",
        "              'PORNOGRAPHY/OBSCENE MAT':11  #c27e00 \n",
        "              }\n",
        "df[\"Category\"] = df[\"Category\"].replace(crime_dict)"
      ],
      "execution_count": 10,
      "outputs": []
    },
    {
      "cell_type": "markdown",
      "metadata": {
        "id": "86xdVAQqKQ1f",
        "colab_type": "text"
      },
      "source": [
        "**Day of weeks conversion**"
      ]
    },
    {
      "cell_type": "code",
      "metadata": {
        "id": "enHmKeNC5y0l",
        "colab_type": "code",
        "colab": {}
      },
      "source": [
        "#Day of weeks conversion\n",
        "data_week_dict = { \"Monday\": 1, \"Tuesday\":2, \"Wednesday\":3, \"Thursday\":4, \"Friday\":5, \"Saturday\":6, \"Sunday\":7 }\n",
        "df[\"DayOfWeek\"] = df[\"DayOfWeek\"].replace(data_week_dict)"
      ],
      "execution_count": 11,
      "outputs": []
    },
    {
      "cell_type": "markdown",
      "metadata": {
        "id": "P-sUjRmcKArO",
        "colab_type": "text"
      },
      "source": [
        " **District conversion**"
      ]
    },
    {
      "cell_type": "code",
      "metadata": {
        "id": "vDCk0oDA5zBZ",
        "colab_type": "code",
        "cellView": "both",
        "colab": {}
      },
      "source": [
        "#District conversion\n",
        "district = df[\"PdDistrict\"].unique()\n",
        "data_dict_district = {}\n",
        "count = 1\n",
        "for data in district:\n",
        "    data_dict_district[data] = count\n",
        "    count+=1 \n",
        "df[\"PdDistrict\"] = df[\"PdDistrict\"].replace(data_dict_district)"
      ],
      "execution_count": 12,
      "outputs": []
    },
    {
      "cell_type": "markdown",
      "metadata": {
        "id": "RmIrLzeYTLX6",
        "colab_type": "text"
      },
      "source": [
        "**Checking Data**"
      ]
    },
    {
      "cell_type": "code",
      "metadata": {
        "id": "7749YsvD6O_A",
        "colab_type": "code",
        "colab": {
          "base_uri": "https://localhost:8080/",
          "height": 0
        },
        "outputId": "e60cb28a-4040-49b4-9495-bc4696cc2cb7"
      },
      "source": [
        "#Checking correlation\n",
        "corr = df.corr()\n",
        "print(corr[\"Category\"])"
      ],
      "execution_count": 13,
      "outputs": [
        {
          "output_type": "stream",
          "text": [
            "IncidntNum   -0.039038\n",
            "Category      1.000000\n",
            "DayOfWeek    -0.026793\n",
            "PdDistrict    0.038569\n",
            "X             0.006231\n",
            "Y            -0.046726\n",
            "PdId         -0.039038\n",
            "grid          0.017282\n",
            "year         -0.031345\n",
            "month        -0.014189\n",
            "day          -0.020276\n",
            "hour         -0.071228\n",
            "Name: Category, dtype: float64\n"
          ],
          "name": "stdout"
        }
      ]
    },
    {
      "cell_type": "code",
      "metadata": {
        "id": "ORQ4r8Ad6we8",
        "colab_type": "code",
        "colab": {
          "base_uri": "https://localhost:8080/",
          "height": 0
        },
        "outputId": "f6315e20-b408-4c66-b002-78ec49fa47b7"
      },
      "source": [
        "#Checking data distribution\n",
        "skew = df.skew()\n",
        "print(skew)"
      ],
      "execution_count": 14,
      "outputs": [
        {
          "output_type": "stream",
          "text": [
            "IncidntNum    0.705717\n",
            "Category      0.078545\n",
            "DayOfWeek    -0.008013\n",
            "PdDistrict    0.093789\n",
            "X            -1.208264\n",
            "Y            -0.725909\n",
            "PdId          0.705717\n",
            "grid         -1.040506\n",
            "year         -0.030696\n",
            "month         0.021918\n",
            "day           0.008271\n",
            "hour         -0.516175\n",
            "dtype: float64\n"
          ],
          "name": "stdout"
        }
      ]
    },
    {
      "cell_type": "markdown",
      "metadata": {
        "id": "5D-zaCb0Mzh5",
        "colab_type": "text"
      },
      "source": [
        "## **Feature Selection and Creation of Prediction Dataset**"
      ]
    },
    {
      "cell_type": "markdown",
      "metadata": {
        "id": "_uPA7qpJTZ5j",
        "colab_type": "text"
      },
      "source": [
        "**Selecting features and Splitting Dataset**"
      ]
    },
    {
      "cell_type": "code",
      "metadata": {
        "id": "J2vgmdzB75gQ",
        "colab_type": "code",
        "colab": {}
      },
      "source": [
        "#Selecting features\n",
        "# \"DayOfWeek\" \"PdDistrict\" \"X\" \"Y\" \"split\" \"grid\" \"year\" \"month\" \"day\" \"hour\"\n",
        "#All    \"grid\",\"year\",\"DayOfWeek\" ,\"month\",\"PdDistrict\",\"day\"\n",
        "features = [  \"grid\",\"year\",\"DayOfWeek\" ,\"month\",\"PdDistrict\",\"day\" ]\n",
        "df_new=df[features]\n",
        "df_res=df.Category\n",
        "#Splitting the data\n",
        "train_X, test_X, train_y, test_y = train_test_split(df_new, df_res, train_size=0.9 , random_state = 1)"
      ],
      "execution_count": 15,
      "outputs": []
    },
    {
      "cell_type": "markdown",
      "metadata": {
        "id": "ThBeNDhiTXv7",
        "colab_type": "text"
      },
      "source": [
        "**Creating prediction_set for Predicting Crime**"
      ]
    },
    {
      "cell_type": "code",
      "metadata": {
        "id": "B3TWZBE6Gcf-",
        "colab_type": "code",
        "colab": {}
      },
      "source": [
        "# Creating prediction_set for Predicting Crime\n",
        "columns=[ \"grid\",\"year\",\"DayOfWeek\" ,\"month\",\"PdDistrict\",\"day\" ]\n",
        "pd.DataFrame(index=np.arange(1), columns=np.arange(8))\n",
        "prediction_set = pd.DataFrame( columns=columns)\n",
        "prediction_set = prediction_set.fillna(0)\n",
        "\n",
        "#District assignment to Grid\n",
        "grid_Pd_dict ={ 2: 6, 3: 6, 4: 2, 5: 2, 6: 2, 7: 2, 8: 2, 12: 6, 13: 6, 14: 2, 15: 2, 16: 2, 17: 2, 18: 2, 19: 2, 20: 4,\n",
        "                22: 6, 23: 6, 24: 2, 25: 2, 26: 2, 27: 2, 28: 2, 29: 2, 30: 8, 31: 6, 32: 6, 33: 10, 34: 2, 35: 10,\n",
        "                36: 2, 37: 2, 38: 2, 39: 2, 40: 4, 41: 4, 42: 6, 43: 10, 44: 10, 45: 10, 46: 5, 47: 1, 48: 2,\n",
        "                49: 2, 50: 4, 51: 4, 52: 4, 53: 4, 54: 10, 55: 7, 56: 5, 57: 5, 58: 5, 59: 5, 60: 8, 61: 8, 62: 8,\n",
        "                63: 1, 64: 7, 65: 7, 66: 3, 67: 3, 68: 3, 69: 5, 70: 8, 71: 1, 72: 8, 73: 1, 74: 3, 75: 3, 76: 3,\n",
        "                77: 3, 78: 3, 79: 3, 82: 1, 83: 3, 84: 3, 85: 3, 86: 3, 87: 3, 88: 3, 89: 3, 90: 1, 97: 3, 98: 3}\n",
        "\n",
        "#Grid Correction\n",
        "grid_val={    0 : 90, 10 : 91, 20 : 92, 30 : 93, 40 : 94, 50 : 95, 60 : 96, 70 : 97, 80 : 98, 90 : 99,\n",
        "              1 : 80, 11 : 81, 21 : 82, 31 : 83, 41 : 84, 51 : 85, 61 : 86, 71 : 87, 81 : 88, 91 : 89,\n",
        "              2 : 70, 12 : 71, 22 : 72, 32 : 73, 42 : 74, 52 : 75, 62 : 76, 72 : 77, 82 : 78, 92 : 79,\n",
        "              3 : 60, 13 : 61, 23 : 62, 33 : 63, 43 : 64, 53 : 65, 63 : 66, 73 : 67, 83 : 68, 93 : 69,\n",
        "              4 : 50, 14 : 51, 24 : 52, 34 : 53, 44 : 54, 54 : 55, 64 : 56, 74 : 57, 84 : 58, 94 : 59,\n",
        "              5 : 40, 15 : 41, 25 : 42, 35 : 43, 45 : 44, 55 : 45, 65 : 46, 75 : 47, 85 : 48, 95 : 49,\n",
        "              6 : 30, 16 : 31, 26 : 32, 36 : 33, 46 : 34, 56 : 35, 66 : 36, 76 : 37, 86 : 38, 96 : 39,\n",
        "              7 : 20, 17 : 21, 27 : 22, 37 : 23, 47 : 24, 57 : 25, 67 : 26, 77 : 27, 87 : 28, 97 : 29,\n",
        "              8 : 10, 18 : 11, 28 : 12, 38 : 13, 48 : 14, 58 : 15, 68 : 16, 78 : 17, 88 : 18, 98 : 19,\n",
        "              9 : 0, 19 : 1, 29 : 2, 39 : 3, 49 : 4, 59 : 5, 69 : 6, 79 : 7, 89 : 8, 99 : 9}\n",
        "\n",
        "#Adding Data to prediction_set \n",
        "grid_set=[]\n",
        "for i in df.grid.unique():\n",
        "  grid_set.append(i)\n",
        "prediction_set[\"grid\"]=grid_set\n",
        "prediction_set[\"PdDistrict\"]=df[\"grid\"].replace(grid_Pd_dict)\n",
        "def set_date(week,day,month,year):\n",
        "  prediction_set[\"year\"]=year\n",
        "  prediction_set[\"DayOfWeek\"]=week\n",
        "  prediction_set[\"month\"]=month\n",
        "  prediction_set[\"day\"]=day\n",
        "set_date(1,1,1,2020)"
      ],
      "execution_count": 16,
      "outputs": []
    },
    {
      "cell_type": "markdown",
      "metadata": {
        "id": "oWpihcnINrGb",
        "colab_type": "text"
      },
      "source": [
        "## **Model Training and Prediction Using XGBoost**"
      ]
    },
    {
      "cell_type": "markdown",
      "metadata": {
        "id": "g2M2PXNnPLJE",
        "colab_type": "text"
      },
      "source": [
        "**XGBoost Model Training and Saving Model**\n",
        "\n",
        "\n"
      ]
    },
    {
      "cell_type": "code",
      "metadata": {
        "id": "cuXfHF1wN8a1",
        "colab_type": "code",
        "colab": {}
      },
      "source": [
        "#XGBoost\n",
        "# xgb = XGBClassifier()\n",
        "# xgb.fit(train_X, train_y)\n",
        "# predictions_xgb = xgb.predict(test_X)\n",
        "# print(\"Success\")"
      ],
      "execution_count": 17,
      "outputs": []
    },
    {
      "cell_type": "markdown",
      "metadata": {
        "id": "BhPq0C9GVaul",
        "colab_type": "text"
      },
      "source": [
        "**Loading Saved Model**"
      ]
    },
    {
      "cell_type": "code",
      "metadata": {
        "id": "0ujp4gzSMJgG",
        "colab_type": "code",
        "colab": {}
      },
      "source": [
        "# Load the model from the file \n",
        "xgb = joblib.load('/content/drive/My Drive/Colab Notebooks/Project/model.pt')\n",
        "model=xgb"
      ],
      "execution_count": 18,
      "outputs": []
    },
    {
      "cell_type": "markdown",
      "metadata": {
        "id": "WN01REz-PhSv",
        "colab_type": "text"
      },
      "source": [
        "**XGBoost Accuracy on Test Dataset**"
      ]
    },
    {
      "cell_type": "code",
      "metadata": {
        "id": "SRbk_C20QOx1",
        "colab_type": "code",
        "colab": {}
      },
      "source": [
        "#XGBoost Accuracy\n",
        "# print(\"XGBoost Accuracy :\", metrics.accuracy_score(test_y, predictions_xgb)*100)\n",
        "\n",
        "#XGBoost Accuracy : 81.78259560373381"
      ],
      "execution_count": 19,
      "outputs": []
    },
    {
      "cell_type": "markdown",
      "metadata": {
        "id": "0dCcp3zAPea7",
        "colab_type": "text"
      },
      "source": [
        "**Predicted Values and Preparing values for Map**"
      ]
    },
    {
      "cell_type": "code",
      "metadata": {
        "id": "6f3SepW9bqWC",
        "colab_type": "code",
        "colab": {}
      },
      "source": [
        "#Predicted Values and Preparing values for Map\n",
        "map_val_dict={}\n",
        "def predict_crime():\n",
        "  predicted_category = model.predict(prediction_set[features])\n",
        "  # prediction_set[\"grid\"]=prediction_set[\"grid\"].replace(grid_val)\n",
        "  grid_list = prediction_set[\"grid\"].tolist()\n",
        "\n",
        "  for i in range(len(grid_list)):\n",
        "    map_val_dict[grid_list[i]]=predicted_category[i]\n",
        "\n",
        "  #Adding missing grids in map_val_dict\n",
        "  miss_grid=[0,1,9,10,11,21,80,81,91,92,93,94,95,96,99]\n",
        "  for i in miss_grid:\n",
        "    map_val_dict[i]=10\n",
        "  # print(map_val_dict.keys())\n",
        "# predict_crime()"
      ],
      "execution_count": 20,
      "outputs": []
    },
    {
      "cell_type": "markdown",
      "metadata": {
        "id": "oLQZHf1aPp4v",
        "colab_type": "text"
      },
      "source": [
        "## **Other Models** - No need to Run!!!"
      ]
    },
    {
      "cell_type": "code",
      "metadata": {
        "id": "g7ZSJyo378S1",
        "colab_type": "code",
        "colab": {}
      },
      "source": [
        "#KNN \n",
        "# knn_model = KNeighborsClassifier(n_neighbors=50,weights='distance',n_jobs=2)\n",
        "# knn_model.fit(train_X, train_y)\n",
        "# # Save the model as a pickle in a file \n",
        "# joblib.dump(knn_model, '/content/drive/My Drive/Colab Notebooks/Project/knn_model_50.pt') \n",
        "# print(\"Success\")"
      ],
      "execution_count": 21,
      "outputs": []
    },
    {
      "cell_type": "code",
      "metadata": {
        "id": "xpUQoPlP_E8I",
        "colab_type": "code",
        "colab": {}
      },
      "source": [
        "#KNN Accuracy\n",
        "# predictions_knn = knn.predict(test_X)\n",
        "# print(\"KNN Accuracy :\", metrics.accuracy_score(test_y, predictions_knn)*100)\n",
        "\n",
        "# KNN Accuracy : 51.51674429867669 "
      ],
      "execution_count": 22,
      "outputs": []
    },
    {
      "cell_type": "code",
      "metadata": {
        "id": "j58FTUJQ92V5",
        "colab_type": "code",
        "colab": {}
      },
      "source": [
        "#Logistic Regression\n",
        "# log = LogisticRegression(max_iter=4000,n_jobs=2)\n",
        "# log.fit(train_X, train_y)\n",
        "# predictions_lr = log.predict(test_X)\n",
        "# print(\"Success\")"
      ],
      "execution_count": 23,
      "outputs": []
    },
    {
      "cell_type": "code",
      "metadata": {
        "id": "cFCvqgpe_Wb0",
        "colab_type": "code",
        "colab": {}
      },
      "source": [
        "#Logistic Regression Accuracy\n",
        "# print(\"Logistic Regression Accuracy :\", metrics.accuracy_score(test_y, predictions_lr)*100)\n",
        "\n",
        "# Logistic Regression Accuracy : 39.88164878599661 "
      ],
      "execution_count": 24,
      "outputs": []
    },
    {
      "cell_type": "code",
      "metadata": {
        "id": "kTp_P8lwGup7",
        "colab_type": "code",
        "colab": {}
      },
      "source": [
        "#Gaussian Naive Bayes\n",
        "# gnb = GaussianNB() \n",
        "# gnb.fit(train_X, train_y) \n",
        "# predictions_gnb = gnb.predict(test_X) \n",
        "# print(\"Success\")"
      ],
      "execution_count": 25,
      "outputs": []
    },
    {
      "cell_type": "code",
      "metadata": {
        "id": "HAMW8zfmH0Rt",
        "colab_type": "code",
        "colab": {}
      },
      "source": [
        "#Gaussian Naive Bayes Accuracy\n",
        "# print(\"Gaussian Naive Bayes Accuracy :\", metrics.accuracy_score(test_y, predictions_gnb)*100)\n",
        "\n",
        "# Gaussian Naive Bayes Accuracy : 20.21050254093733"
      ],
      "execution_count": 26,
      "outputs": []
    },
    {
      "cell_type": "markdown",
      "metadata": {
        "id": "vj3Jfu7CP6rD",
        "colab_type": "text"
      },
      "source": [
        "## **Map Visualization**"
      ]
    },
    {
      "cell_type": "markdown",
      "metadata": {
        "id": "CLpVof2KSHKC",
        "colab_type": "text"
      },
      "source": [
        "### **Grid Function for Map**"
      ]
    },
    {
      "cell_type": "code",
      "metadata": {
        "id": "dIAp-A4IBARz",
        "colab_type": "code",
        "colab": {}
      },
      "source": [
        "#Grid Function\n",
        "def get_geojson_grid(upper_right, lower_left, n=10):\n",
        "\n",
        "    all_boxes = []\n",
        "\n",
        "    lat_steps = np.linspace(lower_left[0], upper_right[0], n+1)\n",
        "    lon_steps = np.linspace(lower_left[1], upper_right[1], n+1)\n",
        "\n",
        "    lat_stride = lat_steps[1] - lat_steps[0]\n",
        "    lon_stride = lon_steps[1] - lon_steps[0]\n",
        "    grid_index=0\n",
        "    for lat in lat_steps[:-1]:\n",
        "        for lon in lon_steps[:-1]:\n",
        "            # Define dimensions of box in grid\n",
        "            upper_left = [lon, lat + lat_stride]\n",
        "            upper_right = [lon + lon_stride, lat + lat_stride]\n",
        "            lower_right = [lon + lon_stride, lat]\n",
        "            lower_left = [lon, lat]\n",
        "\n",
        "            # Define json coordinates for polygon\n",
        "            coordinates = [\n",
        "                upper_left,\n",
        "                upper_right,\n",
        "                lower_right,\n",
        "                lower_left,\n",
        "                upper_left\n",
        "            ]\n",
        "\n",
        "            geo_json = {\"type\": \"FeatureCollection\",\n",
        "                        \"properties\":{\n",
        "                            \"lower_left\": lower_left,\n",
        "                            \"upper_right\": upper_right,\n",
        "                            \"name\": grid_index,\n",
        "                            \"category\": int(map_val_dict[grid_index]),\n",
        "                            \n",
        "                        },\n",
        "                        \"features\":[]}\n",
        "\n",
        "            grid_feature = {\n",
        "                \"type\":\"Feature\",\n",
        "                \"geometry\":{\n",
        "                    \"type\":\"Polygon\",\n",
        "                    \"coordinates\": [coordinates]\n",
        "                    \n",
        "                }\n",
        "            }\n",
        "            grid_index+=1\n",
        "            geo_json[\"features\"].append(grid_feature)\n",
        "\n",
        "            all_boxes.append(geo_json)\n",
        "    \n",
        "    return all_boxes"
      ],
      "execution_count": 27,
      "outputs": []
    },
    {
      "cell_type": "markdown",
      "metadata": {
        "id": "a6GTfEI9R8D8",
        "colab_type": "text"
      },
      "source": [
        "### **Map Creation**\n",
        "\n"
      ]
    },
    {
      "cell_type": "code",
      "metadata": {
        "id": "DBW5vDw3BD1m",
        "colab_type": "code",
        "colab": {
          "base_uri": "https://localhost:8080/",
          "height": 0
        },
        "outputId": "dae11197-50af-4b36-fc94-2883447aa5c2"
      },
      "source": [
        "#Map with Grid\n",
        "lower_left = [37.708318, -122.514985]\n",
        "upper_right = [37.811127, -122.356992]\n",
        "SF_COORDINATES = (37.76, -122.45)\n",
        "\n",
        "def create_map():\n",
        "  lower_left = [37.708318, -122.514985]\n",
        "  upper_right = [37.811127, -122.356992]\n",
        "\n",
        "  SF_COORDINATES = (37.76, -122.45)\n",
        "  f = folium.Figure(width=600, height=400)\n",
        "  m = folium.Map(location=SF_COORDINATES, zoom_start=12).add_to(f)  #Creating Map\n",
        "  grid = get_geojson_grid(upper_right, lower_left , n=10)           #Grid Creation\n",
        "\n",
        "  for i, geo_json in enumerate(grid):\n",
        "\n",
        "\n",
        "      # color = plt.cm.Reds(i / len(grid))\n",
        "      # color = mpl.colors.to_hex(color)\n",
        "      blank_list=[49,59,69,79,89,99,98,88,80,90,91,81]  #Empty cells\n",
        "      if(i in blank_list): #or geo_json['properties']['category']==10):    #For No Crime\n",
        "        continue\n",
        "      elif(geo_json['properties']['category']==1):    #WARRANTS\n",
        "        gj1 = folium.GeoJson(geo_json,\n",
        "                            style_function=lambda feature : {'fillColor': \"#c7000a\"   #red\n",
        "                            ,'color':\"black\"\n",
        "                            , 'opacity':0.135,'weight': 1,'fillOpacity': 0.65,} \n",
        "                            ).add_to(m) \n",
        "        m.add_child(gj1)\n",
        "      elif(geo_json['properties']['category'] == 2):    #THEFT\n",
        "        gj = folium.GeoJson(geo_json,\n",
        "                            style_function=lambda feature : {'fillColor': \"#ed0274\"   #pink\n",
        "                            ,'color':\"black\"\n",
        "                            , 'opacity':0.135,'weight': 1,'fillOpacity': 0.65,} \n",
        "                            ).add_to(m) \n",
        "        m.add_child(gj)\n",
        "      elif(geo_json['properties']['category'] == 3):    #ARSON\n",
        "          gj = folium.GeoJson(geo_json,\n",
        "                              style_function=lambda feature : {'fillColor': \"#dff702\"   #yellow\n",
        "                              ,'color':\"black\"\n",
        "                              , 'opacity':0.135,'weight': 1,'fillOpacity': .65,} \n",
        "                              ).add_to(m) \n",
        "          m.add_child(gj)\n",
        "      elif(geo_json['properties']['category'] == 4):    #ASSAULT\n",
        "        gj = folium.GeoJson(geo_json,\n",
        "                            style_function=lambda feature : {'fillColor': \"#830fa6\"   #violet\n",
        "                            ,'color':\"black\"\n",
        "                            , 'opacity':0.135,'weight': 1,'fillOpacity': 0.65,} \n",
        "                            ).add_to(m) \n",
        "        m.add_child(gj)\n",
        "      elif(geo_json['properties']['category']== 5):   #WEAPON LAWS\n",
        "        gj = folium.GeoJson(geo_json,\n",
        "                            style_function=lambda feature : {'fillColor': \"#aeb0ab\"   #gray\n",
        "                            ,'color':\"black\"\n",
        "                            , 'opacity':0.135,'weight': 1,'fillOpacity': 0.75,} \n",
        "                            ).add_to(m) \n",
        "        m.add_child(gj)\n",
        "      elif(geo_json['properties']['category'] == 6):  #BURGLARY\n",
        "        gj = folium.GeoJson(geo_json,\n",
        "                            style_function=lambda feature : {'fillColor': \"#171ee3 \"    #blue\n",
        "                            ,'color':\"black\"\n",
        "                            , 'opacity':0.135,'weight': 1,'fillOpacity': 0.65,} \n",
        "                            ).add_to(m) \n",
        "        m.add_child(gj)\n",
        "      elif(geo_json['properties']['category'] == 7):    #KIDNAPPING\n",
        "        gj = folium.GeoJson(geo_json,\n",
        "                            style_function=lambda feature : {'fillColor': \"#75bfba\"   #cyan\n",
        "                            ,'color':\"black\"\n",
        "                            , 'opacity':0.135,'weight': 1,'fillOpacity': 0.65,} \n",
        "                            ).add_to(m) \n",
        "        m.add_child(gj)\n",
        "      elif(geo_json['properties']['category'] == 8):    #SEX OFFENSES\n",
        "        gj = folium.GeoJson(geo_json,\n",
        "                            style_function=lambda feature : {'fillColor': \"#00b6c7\"   #light blue\n",
        "                            ,'color':\"black\"\n",
        "                            , 'opacity':0.135,'weight': 1,'fillOpacity': 0.65,} \n",
        "                            ).add_to(m) \n",
        "        m.add_child(gj)\n",
        "      elif(geo_json['properties']['category'] == 9):    #SEX OFFENSES FORCIBLE\n",
        "        gj = folium.GeoJson(geo_json,\n",
        "                            style_function=lambda feature : {'fillColor': \"#00c25e\"   #green\n",
        "                            ,'color':\"black\"\n",
        "                            , 'opacity':0.135,'weight': 1,'fillOpacity': 0.65,} \n",
        "                            ).add_to(m) \n",
        "        m.add_child(gj)\n",
        "      elif(geo_json['properties']['category'] == 11):   #OBSCENE\n",
        "        gj = folium.GeoJson(geo_json,\n",
        "                            style_function=lambda feature : {'fillColor': \"#c27e00 \"    #dark yellow\n",
        "                            ,'color':\"black\"\n",
        "                            , 'opacity':0.135,'weight': 1,'fillOpacity': 0.65,} \n",
        "                            ).add_to(m) \n",
        "        m.add_child(gj)\n",
        "      else:\n",
        "        gj2=folium.GeoJson(geo_json,\n",
        "                            style_function=lambda feature : {'fillColor': \"black\" \n",
        "                            ,'color':\"black\"\n",
        "                            , 'opacity':0,'weight': .01,'fillOpacity': 0.05,} \n",
        "                            )\n",
        "        m.add_child(gj2) \n",
        "    # folium.Marker([37.775421\t\t,-122.403405\t], popup= \"here\" ,  icon=folium.Icon(color='red')).add_to(m)\n",
        "  display(m)  \n",
        "set_date(1,31,10,2010)   #Set the values in the prediction_set\n",
        "predict_crime()                 #Predict crime using the values\n",
        "create_map()\n"
      ],
      "execution_count": 28,
      "outputs": [
        {
          "output_type": "display_data",
          "data": {
            "text/html": [
              "<iframe src=\"about:blank\" width=\"600\" height=\"400\"style=\"border:none !important;\" data-html=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 onload=\"this.contentDocument.open();this.contentDocument.write(atob(this.getAttribute('data-html')));this.contentDocument.close();\" \"allowfullscreen\" \"webkitallowfullscreen\" \"mozallowfullscreen\"></iframe>"
            ],
            "text/plain": [
              "<folium.folium.Map at 0x7f8039217dd8>"
            ]
          },
          "metadata": {
            "tags": []
          }
        }
      ]
    },
    {
      "cell_type": "markdown",
      "metadata": {
        "id": "_zM2pSNT9tjb",
        "colab_type": "text"
      },
      "source": [
        "## **Map in Html**"
      ]
    },
    {
      "cell_type": "code",
      "metadata": {
        "colab_type": "code",
        "id": "GZFv72AyhBN7",
        "colab": {
          "base_uri": "https://localhost:8080/",
          "height": 654
        },
        "outputId": "8aecebb6-52b9-443d-f4ee-d7226c63ec31"
      },
      "source": [
        "#UI for map with diffrent Predictions\n",
        "\n",
        "def show_html():\n",
        "  display(IPython.display.HTML('''\n",
        "  <!-- CSS -->\n",
        "    <style>\n",
        "        button {  background-color: #0aa326;\n",
        "                  border: none;\n",
        "                  color: white;\n",
        "                  padding: 10px 50px;\n",
        "                  text-align: center;\n",
        "                  text-decoration: none;\n",
        "                  display: inline-block;\n",
        "                  font-size: 16px;\n",
        "                  margin: 4px 2px;\n",
        "                  transition-duration: 0.4s;\n",
        "                  cursor: pointer;\n",
        "                  font-weight: bold;}\n",
        "        button:hover {  background-color: #0aa326;\n",
        "                        color: black; } \n",
        "        body { height: 500px; }\n",
        "    </style>\n",
        "    <style>\n",
        "      /*the container must be positioned relative:*/\n",
        "      .custom-select {\n",
        "        position: relative;\n",
        "        font-family: Arial;\n",
        "      }\n",
        "      .custom-select select {\n",
        "        display: none; /*hide original SELECT element:*/\n",
        "      }\n",
        "\n",
        "      .select-selected {\n",
        "        background-color: #0aa326;\n",
        "      }\n",
        "\n",
        "      /*style the arrow inside the select element:*/\n",
        "      .select-selected:after {\n",
        "        position: absolute;\n",
        "        content: \"\";\n",
        "        top: 14px;\n",
        "        right: 10px;\n",
        "        width: 0;\n",
        "        height: 0;\n",
        "        border: 6px solid transparent;\n",
        "        border-color: #fff transparent transparent transparent;\n",
        "      }\n",
        "\n",
        "      /*point the arrow upwards when the select box is open (active):*/\n",
        "      .select-selected.select-arrow-active:after {\n",
        "        border-color: transparent transparent #fff transparent;\n",
        "        top: 7px;\n",
        "      }\n",
        "\n",
        "      /*style the items (options), including the selected item:*/\n",
        "      .select-items div,.select-selected {\n",
        "        color: white;\n",
        "        font-weight:bold;\n",
        "        padding: 8px 16px;\n",
        "        border: 1px solid transparent;\n",
        "        border-color: transparent transparent rgba(0, 0, 0, 0.1) transparent;\n",
        "        cursor: pointer;\n",
        "        user-select: none;\n",
        "      }\n",
        "\n",
        "      /*style items (options):*/\n",
        "      .select-items {\n",
        "        position: absolute;\n",
        "        background-color: #0aa326;\n",
        "        top: 100%;\n",
        "        left: 0;\n",
        "        right: 0;\n",
        "        z-index: 99;\n",
        "      }\n",
        "\n",
        "      /*hide the items when the select box is closed:*/\n",
        "      .select-hide {\n",
        "        display: none;\n",
        "      }\n",
        "\n",
        "      .select-items div:hover, .same-as-selected {\n",
        "        background-color: #0aa326;\n",
        "        color: black;\n",
        "      }\n",
        "      .dot {\n",
        "        height: 15px;\n",
        "        width: 15px;\n",
        "        background-color: #bbb;\n",
        "        border-radius: 50%;\n",
        "        display: inline-block;\n",
        "      }\n",
        "    </style>\n",
        "  <!-- body -->\n",
        "    <body >\n",
        "        <h1 ><center>Crime Prediction and Visualization</center></h1>\n",
        "        <br><br><center>\n",
        "        <div style=\"display: inline-flex; \">\n",
        "          <div class=\"custom-select\" style=\"width:150px; \">\n",
        "            <select id=\"dayofweek\">\n",
        "              <option value=\"0\">Week Day</option>\n",
        "              <option value=\"1\">Monday</option> \n",
        "              <option value=\"2\">Tuesday</option> \n",
        "              <option value=\"3\">Wednesday</option>\n",
        "              <option value=\"4\">Thursday</option>\n",
        "              <option value=\"5\">Friday</option>\n",
        "              <option value=\"6\">Saturday</option>\n",
        "              <option value=\"7\">Sunday</option>\n",
        "            </select>\n",
        "          </div>\n",
        "          <div class=\"custom-select\" style=\"width:150px; padding-inline-start: 40px;\">\n",
        "            <select id=\"day\">\n",
        "              <option value=\"0\">Day</option>\n",
        "              <option value=\"1\">1</option>\n",
        "              <option value=\"2\">2</option>\n",
        "              <option value=\"3\">3</option>\n",
        "              <option value=\"4\">4</option>\n",
        "              <option value=\"5\">5</option>\n",
        "               <option value=\"6\">6</option>\n",
        "                <option value=\"7\">7</option>\n",
        "                <option value=\"8\">8</option>\n",
        "                <option value=\"9\">9</option>\n",
        "                <option value=\"10\">10</option>\n",
        "                <option value=\"11\">11</option>\n",
        "                <option value=\"12\">12</option>\n",
        "                <option value=\"13\">13</option>\n",
        "                <option value=\"14\">14</option>\n",
        "                <option value=\"15\">15</option>\n",
        "                <option value=\"16\">16</option>\n",
        "                <option value=\"17\">17</option>\n",
        "                <option value=\"18\">18</option>\n",
        "                <option value=\"19\">19</option>\n",
        "                <option value=\"20\">20</option>\n",
        "                <option value=\"21\">21</option>\n",
        "                <option value=\"22\">22</option>\n",
        "                <option value=\"23\">23</option>\n",
        "                <option value=\"24\">24</option>\n",
        "                <option value=\"25\">25</option>\n",
        "                <option value=\"26\">26</option>\n",
        "                <option value=\"27\">27</option>\n",
        "                <option value=\"28\">28</option>\n",
        "                <option value=\"29\">29</option>\n",
        "                <option value=\"30\">30</option>\n",
        "                <option value=\"31\">31</option>\n",
        "            </select>\n",
        "          </div>\n",
        "          <div class=\"custom-select\" style=\"width:150px; padding-inline-start: 40px;\">\n",
        "            <select id=\"month\">\n",
        "              <option value=\"0\">Month</option>\n",
        "              <option value=\"1\">January</option>\n",
        "              <option value=\"2\">February</option>\n",
        "              <option value=\"3\">March</option>\n",
        "              <option value=\"4\">April</option>\n",
        "              <option value=\"5\">May</option>\n",
        "              <option value=\"6\">June</option>\n",
        "              <option value=\"7\">July</option>\n",
        "              <option value=\"8\">August</option>\n",
        "              <option value=\"9\">September</option>\n",
        "              <option value=\"10\">October</option>\n",
        "              <option value=\"11\">November</option>\n",
        "              <option value=\"12\">December</option>\n",
        "            </select>\n",
        "          </div>\n",
        "          <div class=\"custom-select\" style=\"width:150px; padding-inline-start: 40px;\">\n",
        "            <select id=\"year\">\n",
        "              <option value=\"0\">Year</option>\n",
        "              <option value=\"2010\">2010</option>\n",
        "              <option value=\"2011\">2011</option>\n",
        "              <option value=\"2012\">2012</option>\n",
        "              <option value=\"2013\">2013</option>\n",
        "              <option value=\"2014\">2014</option>\n",
        "              <option value=\"2015\">2015</option>\n",
        "              <option value=\"2016\">2016</option>\n",
        "              <option value=\"2017\">2017</option>\n",
        "              <option value=\"2018\">2018</option>\n",
        "              <option value=\"2019\">2019</option>\n",
        "              <option value=\"2020\">2020</option>\n",
        "              <option value=\"2021\">2021</option>\n",
        "            </select>\n",
        "          </div>\n",
        "        </div>\n",
        "        <button id='predict_button' style=\"margin-left:40px;\" >Predict</button></center>\n",
        "        <div id=\"text\" style=\"text-align:center\"></div><br>\n",
        "        <div style=\"text-align:center\">\n",
        "          <span class=\"dot\"  style=\"background-color: #c7000a\"></span>&nbsp;WARRANTS  &nbsp; \n",
        "          <span class=\"dot\"  style=\"background-color: #ed0274\"></span>&nbsp;THEFT\t&nbsp;\n",
        "          <span class=\"dot\"  style=\"background-color: #dff702\"></span>&nbsp;ARSON\t&nbsp;\n",
        "          <span class=\"dot\"  style=\"background-color: #830fa6\"></span>&nbsp;ASSAULT\t&nbsp;\n",
        "          <span class=\"dot\"  style=\"background-color: #aeb0ab\"></span>&nbsp;WEAPON LAWS\t&nbsp;\n",
        "          <span class=\"dot\"  style=\"background-color: #171ee3\"></span>&nbsp;BURGLARY\t&nbsp;\n",
        "          <span class=\"dot\"  style=\"background-color: #75bfba\"></span>&nbsp;KIDNAPPING\t&nbsp;\n",
        "          <span class=\"dot\"  style=\"background-color: #00b6c7\"></span>&nbsp;SEX OFFENSES\t&nbsp;\n",
        "          <span class=\"dot\"  style=\"background-color: #00c25e\"></span>&nbsp;SEX OFFENSES FORCIBLE &nbsp;\t\n",
        "          <span class=\"dot\"  style=\"background-color: #c27e00\"></span>&nbsp;OBSCENE\t&nbsp;\n",
        "        </div>\n",
        "  <!-- JS -->\n",
        "    <script>       //Get selected items from list \n",
        "          document.querySelector('#predict_button').onclick = () => {\n",
        "            var dayofweek = document.getElementById(\"dayofweek\");\n",
        "            var dayofweek_selected = dayofweek.options[dayofweek.selectedIndex].value;\n",
        "            var day = document.getElementById(\"day\");\n",
        "            var day_selected = day.options[day.selectedIndex].value;\n",
        "            var month = document.getElementById(\"month\");\n",
        "            var month_selected = month.options[month.selectedIndex].value;\n",
        "            var year = document.getElementById(\"year\");\n",
        "            var year_selected = year.options[year.selectedIndex].value;\n",
        "            // google.colab.kernel.invokeFunction('fn', [], {{}}) \n",
        "            invoke = google.colab.kernel.invokeFunction\n",
        "            invoke('fn', [dayofweek_selected,day_selected,month_selected,year_selected], {})  //Python function call  *args, **kw\n",
        "\n",
        "            //document.getElementById(\"text\").innerHTML = dayofweek_selected+\" \"+day_selected;\n",
        "          };\n",
        "    </script>\n",
        "    <script>   // for drop down \n",
        "      var x, i, j, selElmnt, a, b, c;\n",
        "      /*look for any elements with the class \"custom-select\":*/\n",
        "      x = document.getElementsByClassName(\"custom-select\");\n",
        "      for (i = 0; i < x.length; i++) {\n",
        "        selElmnt = x[i].getElementsByTagName(\"select\")[0];\n",
        "        /*for each element, create a new DIV that will act as the selected item:*/\n",
        "        a = document.createElement(\"DIV\");\n",
        "        a.setAttribute(\"class\", \"select-selected\");\n",
        "        a.innerHTML = selElmnt.options[selElmnt.selectedIndex].innerHTML;\n",
        "        x[i].appendChild(a);\n",
        "        /*for each element, create a new DIV that will contain the option list:*/\n",
        "        b = document.createElement(\"DIV\");\n",
        "        b.setAttribute(\"class\", \"select-items select-hide\");\n",
        "        for (j = 1; j < selElmnt.length; j++) {\n",
        "          /*for each option in the original select element,\n",
        "          create a new DIV that will act as an option item:*/\n",
        "          c = document.createElement(\"DIV\");\n",
        "          c.innerHTML = selElmnt.options[j].innerHTML;\n",
        "          c.addEventListener(\"click\", function(e) {\n",
        "              /*when an item is clicked, update the original select box,\n",
        "              and the selected item:*/\n",
        "              var y, i, k, s, h;\n",
        "              s = this.parentNode.parentNode.getElementsByTagName(\"select\")[0];\n",
        "              h = this.parentNode.previousSibling;\n",
        "              for (i = 0; i < s.length; i++) {\n",
        "                if (s.options[i].innerHTML == this.innerHTML) {\n",
        "                  s.selectedIndex = i;\n",
        "                  h.innerHTML = this.innerHTML;\n",
        "                  y = this.parentNode.getElementsByClassName(\"same-as-selected\");\n",
        "                  for (k = 0; k < y.length; k++) {\n",
        "                    y[k].removeAttribute(\"class\");\n",
        "                  }\n",
        "                  this.setAttribute(\"class\", \"same-as-selected\");\n",
        "                  break;\n",
        "                }\n",
        "              }\n",
        "              h.click();\n",
        "          });\n",
        "          b.appendChild(c);\n",
        "        }\n",
        "        x[i].appendChild(b);\n",
        "        a.addEventListener(\"click\", function(e) {\n",
        "            /*when the select box is clicked, close any other select boxes,\n",
        "            and open/close the current select box:*/\n",
        "            e.stopPropagation();\n",
        "            closeAllSelect(this);\n",
        "            this.nextSibling.classList.toggle(\"select-hide\");\n",
        "            this.classList.toggle(\"select-arrow-active\");\n",
        "          });\n",
        "      }\n",
        "      function closeAllSelect(elmnt) {\n",
        "        /*a function that will close all select boxes in the document,\n",
        "        except the current select box:*/\n",
        "        var x, y, i, arrNo = [];\n",
        "        x = document.getElementsByClassName(\"select-items\");\n",
        "        y = document.getElementsByClassName(\"select-selected\");\n",
        "        for (i = 0; i < y.length; i++) {\n",
        "          if (elmnt == y[i]) {\n",
        "            arrNo.push(i)\n",
        "          } else {\n",
        "            y[i].classList.remove(\"select-arrow-active\");\n",
        "          }\n",
        "        }\n",
        "        for (i = 0; i < x.length; i++) {\n",
        "          if (arrNo.indexOf(i)) {\n",
        "            x[i].classList.add(\"select-hide\");\n",
        "          }\n",
        "        }\n",
        "      }\n",
        "      /*if the user clicks anywhere outside the select box,\n",
        "      then close all select boxes:*/\n",
        "      document.addEventListener(\"click\", closeAllSelect);\n",
        "    </script>\n",
        "  </body>  \n",
        "  <!-- End -->\n",
        "    '''))\n",
        "\n",
        "def fn(week,day,month,year):\n",
        "  clear_output(wait=False)\n",
        "  set_date(week,day,month,year)   #Set the values in the prediction_set\n",
        "  predict_crime()                 #Predict crime using the values\n",
        "  show_html()                     #Display html elements\n",
        "  print(\"\\n\\nWeek : \"+str(week)+\" , \"+\"day : \"+str(day)+\" , \"+\"month : \"+str(month)+\" , \"+\"year : \"+str(year)+\"\\n\\n\",end='')\n",
        "  create_map()                    #Create map with values\n",
        "  # print(prediction_set.head(1) ) \n",
        "  # print(map_val_dict)                 \n",
        "  # display(m)                      #Display Map\n",
        "output.register_callback('fn', fn)\n",
        "fn(1,1,1,2020)"
      ],
      "execution_count": 29,
      "outputs": [
        {
          "output_type": "display_data",
          "data": {
            "text/html": [
              "\n",
              "  <!-- CSS -->\n",
              "    <style>\n",
              "        button {  background-color: #0aa326;\n",
              "                  border: none;\n",
              "                  color: white;\n",
              "                  padding: 10px 50px;\n",
              "                  text-align: center;\n",
              "                  text-decoration: none;\n",
              "                  display: inline-block;\n",
              "                  font-size: 16px;\n",
              "                  margin: 4px 2px;\n",
              "                  transition-duration: 0.4s;\n",
              "                  cursor: pointer;\n",
              "                  font-weight: bold;}\n",
              "        button:hover {  background-color: #0aa326;\n",
              "                        color: black; } \n",
              "        body { height: 500px; }\n",
              "    </style>\n",
              "    <style>\n",
              "      /*the container must be positioned relative:*/\n",
              "      .custom-select {\n",
              "        position: relative;\n",
              "        font-family: Arial;\n",
              "      }\n",
              "      .custom-select select {\n",
              "        display: none; /*hide original SELECT element:*/\n",
              "      }\n",
              "\n",
              "      .select-selected {\n",
              "        background-color: #0aa326;\n",
              "      }\n",
              "\n",
              "      /*style the arrow inside the select element:*/\n",
              "      .select-selected:after {\n",
              "        position: absolute;\n",
              "        content: \"\";\n",
              "        top: 14px;\n",
              "        right: 10px;\n",
              "        width: 0;\n",
              "        height: 0;\n",
              "        border: 6px solid transparent;\n",
              "        border-color: #fff transparent transparent transparent;\n",
              "      }\n",
              "\n",
              "      /*point the arrow upwards when the select box is open (active):*/\n",
              "      .select-selected.select-arrow-active:after {\n",
              "        border-color: transparent transparent #fff transparent;\n",
              "        top: 7px;\n",
              "      }\n",
              "\n",
              "      /*style the items (options), including the selected item:*/\n",
              "      .select-items div,.select-selected {\n",
              "        color: white;\n",
              "        font-weight:bold;\n",
              "        padding: 8px 16px;\n",
              "        border: 1px solid transparent;\n",
              "        border-color: transparent transparent rgba(0, 0, 0, 0.1) transparent;\n",
              "        cursor: pointer;\n",
              "        user-select: none;\n",
              "      }\n",
              "\n",
              "      /*style items (options):*/\n",
              "      .select-items {\n",
              "        position: absolute;\n",
              "        background-color: #0aa326;\n",
              "        top: 100%;\n",
              "        left: 0;\n",
              "        right: 0;\n",
              "        z-index: 99;\n",
              "      }\n",
              "\n",
              "      /*hide the items when the select box is closed:*/\n",
              "      .select-hide {\n",
              "        display: none;\n",
              "      }\n",
              "\n",
              "      .select-items div:hover, .same-as-selected {\n",
              "        background-color: #0aa326;\n",
              "        color: black;\n",
              "      }\n",
              "      .dot {\n",
              "        height: 15px;\n",
              "        width: 15px;\n",
              "        background-color: #bbb;\n",
              "        border-radius: 50%;\n",
              "        display: inline-block;\n",
              "      }\n",
              "    </style>\n",
              "  <!-- body -->\n",
              "    <body >\n",
              "        <h1 ><center>Crime Prediction and Visualization</center></h1>\n",
              "        <br><br><center>\n",
              "        <div style=\"display: inline-flex; \">\n",
              "          <div class=\"custom-select\" style=\"width:150px; \">\n",
              "            <select id=\"dayofweek\">\n",
              "              <option value=\"0\">Week Day</option>\n",
              "              <option value=\"1\">Monday</option> \n",
              "              <option value=\"2\">Tuesday</option> \n",
              "              <option value=\"3\">Wednesday</option>\n",
              "              <option value=\"4\">Thursday</option>\n",
              "              <option value=\"5\">Friday</option>\n",
              "              <option value=\"6\">Saturday</option>\n",
              "              <option value=\"7\">Sunday</option>\n",
              "            </select>\n",
              "          </div>\n",
              "          <div class=\"custom-select\" style=\"width:150px; padding-inline-start: 40px;\">\n",
              "            <select id=\"day\">\n",
              "              <option value=\"0\">Day</option>\n",
              "              <option value=\"1\">1</option>\n",
              "              <option value=\"2\">2</option>\n",
              "              <option value=\"3\">3</option>\n",
              "              <option value=\"4\">4</option>\n",
              "              <option value=\"5\">5</option>\n",
              "               <option value=\"6\">6</option>\n",
              "                <option value=\"7\">7</option>\n",
              "                <option value=\"8\">8</option>\n",
              "                <option value=\"9\">9</option>\n",
              "                <option value=\"10\">10</option>\n",
              "                <option value=\"11\">11</option>\n",
              "                <option value=\"12\">12</option>\n",
              "                <option value=\"13\">13</option>\n",
              "                <option value=\"14\">14</option>\n",
              "                <option value=\"15\">15</option>\n",
              "                <option value=\"16\">16</option>\n",
              "                <option value=\"17\">17</option>\n",
              "                <option value=\"18\">18</option>\n",
              "                <option value=\"19\">19</option>\n",
              "                <option value=\"20\">20</option>\n",
              "                <option value=\"21\">21</option>\n",
              "                <option value=\"22\">22</option>\n",
              "                <option value=\"23\">23</option>\n",
              "                <option value=\"24\">24</option>\n",
              "                <option value=\"25\">25</option>\n",
              "                <option value=\"26\">26</option>\n",
              "                <option value=\"27\">27</option>\n",
              "                <option value=\"28\">28</option>\n",
              "                <option value=\"29\">29</option>\n",
              "                <option value=\"30\">30</option>\n",
              "                <option value=\"31\">31</option>\n",
              "            </select>\n",
              "          </div>\n",
              "          <div class=\"custom-select\" style=\"width:150px; padding-inline-start: 40px;\">\n",
              "            <select id=\"month\">\n",
              "              <option value=\"0\">Month</option>\n",
              "              <option value=\"1\">January</option>\n",
              "              <option value=\"2\">February</option>\n",
              "              <option value=\"3\">March</option>\n",
              "              <option value=\"4\">April</option>\n",
              "              <option value=\"5\">May</option>\n",
              "              <option value=\"6\">June</option>\n",
              "              <option value=\"7\">July</option>\n",
              "              <option value=\"8\">August</option>\n",
              "              <option value=\"9\">September</option>\n",
              "              <option value=\"10\">October</option>\n",
              "              <option value=\"11\">November</option>\n",
              "              <option value=\"12\">December</option>\n",
              "            </select>\n",
              "          </div>\n",
              "          <div class=\"custom-select\" style=\"width:150px; padding-inline-start: 40px;\">\n",
              "            <select id=\"year\">\n",
              "              <option value=\"0\">Year</option>\n",
              "              <option value=\"2010\">2010</option>\n",
              "              <option value=\"2011\">2011</option>\n",
              "              <option value=\"2012\">2012</option>\n",
              "              <option value=\"2013\">2013</option>\n",
              "              <option value=\"2014\">2014</option>\n",
              "              <option value=\"2015\">2015</option>\n",
              "              <option value=\"2016\">2016</option>\n",
              "              <option value=\"2017\">2017</option>\n",
              "              <option value=\"2018\">2018</option>\n",
              "              <option value=\"2019\">2019</option>\n",
              "              <option value=\"2020\">2020</option>\n",
              "              <option value=\"2021\">2021</option>\n",
              "            </select>\n",
              "          </div>\n",
              "        </div>\n",
              "        <button id='predict_button' style=\"margin-left:40px;\" >Predict</button></center>\n",
              "        <div id=\"text\" style=\"text-align:center\"></div><br>\n",
              "        <div style=\"text-align:center\">\n",
              "          <span class=\"dot\"  style=\"background-color: #c7000a\"></span>&nbsp;WARRANTS  &nbsp; \n",
              "          <span class=\"dot\"  style=\"background-color: #ed0274\"></span>&nbsp;THEFT\t&nbsp;\n",
              "          <span class=\"dot\"  style=\"background-color: #dff702\"></span>&nbsp;ARSON\t&nbsp;\n",
              "          <span class=\"dot\"  style=\"background-color: #830fa6\"></span>&nbsp;ASSAULT\t&nbsp;\n",
              "          <span class=\"dot\"  style=\"background-color: #aeb0ab\"></span>&nbsp;WEAPON LAWS\t&nbsp;\n",
              "          <span class=\"dot\"  style=\"background-color: #171ee3\"></span>&nbsp;BURGLARY\t&nbsp;\n",
              "          <span class=\"dot\"  style=\"background-color: #75bfba\"></span>&nbsp;KIDNAPPING\t&nbsp;\n",
              "          <span class=\"dot\"  style=\"background-color: #00b6c7\"></span>&nbsp;SEX OFFENSES\t&nbsp;\n",
              "          <span class=\"dot\"  style=\"background-color: #00c25e\"></span>&nbsp;SEX OFFENSES FORCIBLE &nbsp;\t\n",
              "          <span class=\"dot\"  style=\"background-color: #c27e00\"></span>&nbsp;OBSCENE\t&nbsp;\n",
              "        </div>\n",
              "  <!-- JS -->\n",
              "    <script>       //Get selected items from list \n",
              "          document.querySelector('#predict_button').onclick = () => {\n",
              "            var dayofweek = document.getElementById(\"dayofweek\");\n",
              "            var dayofweek_selected = dayofweek.options[dayofweek.selectedIndex].value;\n",
              "            var day = document.getElementById(\"day\");\n",
              "            var day_selected = day.options[day.selectedIndex].value;\n",
              "            var month = document.getElementById(\"month\");\n",
              "            var month_selected = month.options[month.selectedIndex].value;\n",
              "            var year = document.getElementById(\"year\");\n",
              "            var year_selected = year.options[year.selectedIndex].value;\n",
              "            // google.colab.kernel.invokeFunction('fn', [], {{}}) \n",
              "            invoke = google.colab.kernel.invokeFunction\n",
              "            invoke('fn', [dayofweek_selected,day_selected,month_selected,year_selected], {})  //Python function call  *args, **kw\n",
              "\n",
              "            //document.getElementById(\"text\").innerHTML = dayofweek_selected+\" \"+day_selected;\n",
              "          };\n",
              "    </script>\n",
              "    <script>   // for drop down \n",
              "      var x, i, j, selElmnt, a, b, c;\n",
              "      /*look for any elements with the class \"custom-select\":*/\n",
              "      x = document.getElementsByClassName(\"custom-select\");\n",
              "      for (i = 0; i < x.length; i++) {\n",
              "        selElmnt = x[i].getElementsByTagName(\"select\")[0];\n",
              "        /*for each element, create a new DIV that will act as the selected item:*/\n",
              "        a = document.createElement(\"DIV\");\n",
              "        a.setAttribute(\"class\", \"select-selected\");\n",
              "        a.innerHTML = selElmnt.options[selElmnt.selectedIndex].innerHTML;\n",
              "        x[i].appendChild(a);\n",
              "        /*for each element, create a new DIV that will contain the option list:*/\n",
              "        b = document.createElement(\"DIV\");\n",
              "        b.setAttribute(\"class\", \"select-items select-hide\");\n",
              "        for (j = 1; j < selElmnt.length; j++) {\n",
              "          /*for each option in the original select element,\n",
              "          create a new DIV that will act as an option item:*/\n",
              "          c = document.createElement(\"DIV\");\n",
              "          c.innerHTML = selElmnt.options[j].innerHTML;\n",
              "          c.addEventListener(\"click\", function(e) {\n",
              "              /*when an item is clicked, update the original select box,\n",
              "              and the selected item:*/\n",
              "              var y, i, k, s, h;\n",
              "              s = this.parentNode.parentNode.getElementsByTagName(\"select\")[0];\n",
              "              h = this.parentNode.previousSibling;\n",
              "              for (i = 0; i < s.length; i++) {\n",
              "                if (s.options[i].innerHTML == this.innerHTML) {\n",
              "                  s.selectedIndex = i;\n",
              "                  h.innerHTML = this.innerHTML;\n",
              "                  y = this.parentNode.getElementsByClassName(\"same-as-selected\");\n",
              "                  for (k = 0; k < y.length; k++) {\n",
              "                    y[k].removeAttribute(\"class\");\n",
              "                  }\n",
              "                  this.setAttribute(\"class\", \"same-as-selected\");\n",
              "                  break;\n",
              "                }\n",
              "              }\n",
              "              h.click();\n",
              "          });\n",
              "          b.appendChild(c);\n",
              "        }\n",
              "        x[i].appendChild(b);\n",
              "        a.addEventListener(\"click\", function(e) {\n",
              "            /*when the select box is clicked, close any other select boxes,\n",
              "            and open/close the current select box:*/\n",
              "            e.stopPropagation();\n",
              "            closeAllSelect(this);\n",
              "            this.nextSibling.classList.toggle(\"select-hide\");\n",
              "            this.classList.toggle(\"select-arrow-active\");\n",
              "          });\n",
              "      }\n",
              "      function closeAllSelect(elmnt) {\n",
              "        /*a function that will close all select boxes in the document,\n",
              "        except the current select box:*/\n",
              "        var x, y, i, arrNo = [];\n",
              "        x = document.getElementsByClassName(\"select-items\");\n",
              "        y = document.getElementsByClassName(\"select-selected\");\n",
              "        for (i = 0; i < y.length; i++) {\n",
              "          if (elmnt == y[i]) {\n",
              "            arrNo.push(i)\n",
              "          } else {\n",
              "            y[i].classList.remove(\"select-arrow-active\");\n",
              "          }\n",
              "        }\n",
              "        for (i = 0; i < x.length; i++) {\n",
              "          if (arrNo.indexOf(i)) {\n",
              "            x[i].classList.add(\"select-hide\");\n",
              "          }\n",
              "        }\n",
              "      }\n",
              "      /*if the user clicks anywhere outside the select box,\n",
              "      then close all select boxes:*/\n",
              "      document.addEventListener(\"click\", closeAllSelect);\n",
              "    </script>\n",
              "  </body>  \n",
              "  <!-- End -->\n",
              "    "
            ],
            "text/plain": [
              "<IPython.core.display.HTML object>"
            ]
          },
          "metadata": {
            "tags": []
          }
        },
        {
          "output_type": "stream",
          "text": [
            "\n",
            "\n",
            "Week : 0 , day : 0 , month : 0 , year : 0\n",
            "\n"
          ],
          "name": "stdout"
        },
        {
          "output_type": "display_data",
          "data": {
            "text/html": [
              "<iframe src=\"about:blank\" width=\"600\" height=\"400\"style=\"border:none !important;\" data-html=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 onload=\"this.contentDocument.open();this.contentDocument.write(atob(this.getAttribute('data-html')));this.contentDocument.close();\" \"allowfullscreen\" \"webkitallowfullscreen\" \"mozallowfullscreen\"></iframe>"
            ],
            "text/plain": [
              "<folium.folium.Map at 0x7f803922a780>"
            ]
          },
          "metadata": {
            "tags": []
          }
        }
      ]
    }
  ]
}